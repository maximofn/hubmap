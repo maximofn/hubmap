{
 "cells": [
  {
   "cell_type": "code",
   "execution_count": 1,
   "metadata": {},
   "outputs": [],
   "source": [
    "import torch\n",
    "import torch.nn.functional as F\n",
    "from pathlib import Path\n",
    "import os\n",
    "import pandas as pd\n",
    "import numpy as np\n",
    "import matplotlib.pyplot as plt\n",
    "from random import randint\n",
    "import tifffile as tiff\n",
    "import cv2"
   ]
  },
  {
   "cell_type": "code",
   "execution_count": 2,
   "metadata": {},
   "outputs": [
    {
     "data": {
      "text/plain": [
       "['train_images',\n",
       " 'test_images',\n",
       " 'train_annotations',\n",
       " 'train.csv',\n",
       " 'sample_submission.csv',\n",
       " 'test.csv']"
      ]
     },
     "execution_count": 2,
     "metadata": {},
     "output_type": "execute_result"
    }
   ],
   "source": [
    "data_path = Path(\"../data/\")\n",
    "os.listdir(data_path)"
   ]
  },
  {
   "cell_type": "code",
   "execution_count": 3,
   "metadata": {},
   "outputs": [],
   "source": [
    "train_images_path = data_path / \"train_images\""
   ]
  },
  {
   "cell_type": "code",
   "execution_count": 4,
   "metadata": {},
   "outputs": [
    {
     "data": {
      "text/html": [
       "<div>\n",
       "<style scoped>\n",
       "    .dataframe tbody tr th:only-of-type {\n",
       "        vertical-align: middle;\n",
       "    }\n",
       "\n",
       "    .dataframe tbody tr th {\n",
       "        vertical-align: top;\n",
       "    }\n",
       "\n",
       "    .dataframe thead th {\n",
       "        text-align: right;\n",
       "    }\n",
       "</style>\n",
       "<table border=\"1\" class=\"dataframe\">\n",
       "  <thead>\n",
       "    <tr style=\"text-align: right;\">\n",
       "      <th></th>\n",
       "      <th>id</th>\n",
       "      <th>organ</th>\n",
       "      <th>data_source</th>\n",
       "      <th>img_height</th>\n",
       "      <th>img_width</th>\n",
       "      <th>pixel_size</th>\n",
       "      <th>tissue_thickness</th>\n",
       "      <th>rle</th>\n",
       "      <th>age</th>\n",
       "      <th>sex</th>\n",
       "      <th>path</th>\n",
       "    </tr>\n",
       "  </thead>\n",
       "  <tbody>\n",
       "    <tr>\n",
       "      <th>0</th>\n",
       "      <td>10044</td>\n",
       "      <td>prostate</td>\n",
       "      <td>HPA</td>\n",
       "      <td>3000</td>\n",
       "      <td>3000</td>\n",
       "      <td>0.4</td>\n",
       "      <td>4</td>\n",
       "      <td>1459676 77 1462675 82 1465674 87 1468673 92 14...</td>\n",
       "      <td>37.0</td>\n",
       "      <td>Male</td>\n",
       "      <td>../data/train_images/10044.tiff</td>\n",
       "    </tr>\n",
       "    <tr>\n",
       "      <th>1</th>\n",
       "      <td>10274</td>\n",
       "      <td>prostate</td>\n",
       "      <td>HPA</td>\n",
       "      <td>3000</td>\n",
       "      <td>3000</td>\n",
       "      <td>0.4</td>\n",
       "      <td>4</td>\n",
       "      <td>715707 2 718705 8 721703 11 724701 18 727692 3...</td>\n",
       "      <td>76.0</td>\n",
       "      <td>Male</td>\n",
       "      <td>../data/train_images/10274.tiff</td>\n",
       "    </tr>\n",
       "    <tr>\n",
       "      <th>2</th>\n",
       "      <td>10392</td>\n",
       "      <td>spleen</td>\n",
       "      <td>HPA</td>\n",
       "      <td>3000</td>\n",
       "      <td>3000</td>\n",
       "      <td>0.4</td>\n",
       "      <td>4</td>\n",
       "      <td>1228631 20 1231629 24 1234624 40 1237623 47 12...</td>\n",
       "      <td>82.0</td>\n",
       "      <td>Male</td>\n",
       "      <td>../data/train_images/10392.tiff</td>\n",
       "    </tr>\n",
       "    <tr>\n",
       "      <th>3</th>\n",
       "      <td>10488</td>\n",
       "      <td>lung</td>\n",
       "      <td>HPA</td>\n",
       "      <td>3000</td>\n",
       "      <td>3000</td>\n",
       "      <td>0.4</td>\n",
       "      <td>4</td>\n",
       "      <td>3446519 15 3449517 17 3452514 20 3455510 24 34...</td>\n",
       "      <td>78.0</td>\n",
       "      <td>Male</td>\n",
       "      <td>../data/train_images/10488.tiff</td>\n",
       "    </tr>\n",
       "    <tr>\n",
       "      <th>4</th>\n",
       "      <td>10610</td>\n",
       "      <td>spleen</td>\n",
       "      <td>HPA</td>\n",
       "      <td>3000</td>\n",
       "      <td>3000</td>\n",
       "      <td>0.4</td>\n",
       "      <td>4</td>\n",
       "      <td>478925 68 481909 87 484893 105 487863 154 4908...</td>\n",
       "      <td>21.0</td>\n",
       "      <td>Female</td>\n",
       "      <td>../data/train_images/10610.tiff</td>\n",
       "    </tr>\n",
       "  </tbody>\n",
       "</table>\n",
       "</div>"
      ],
      "text/plain": [
       "      id     organ data_source  img_height  img_width  pixel_size  \\\n",
       "0  10044  prostate         HPA        3000       3000         0.4   \n",
       "1  10274  prostate         HPA        3000       3000         0.4   \n",
       "2  10392    spleen         HPA        3000       3000         0.4   \n",
       "3  10488      lung         HPA        3000       3000         0.4   \n",
       "4  10610    spleen         HPA        3000       3000         0.4   \n",
       "\n",
       "   tissue_thickness                                                rle   age  \\\n",
       "0                 4  1459676 77 1462675 82 1465674 87 1468673 92 14...  37.0   \n",
       "1                 4  715707 2 718705 8 721703 11 724701 18 727692 3...  76.0   \n",
       "2                 4  1228631 20 1231629 24 1234624 40 1237623 47 12...  82.0   \n",
       "3                 4  3446519 15 3449517 17 3452514 20 3455510 24 34...  78.0   \n",
       "4                 4  478925 68 481909 87 484893 105 487863 154 4908...  21.0   \n",
       "\n",
       "      sex                             path  \n",
       "0    Male  ../data/train_images/10044.tiff  \n",
       "1    Male  ../data/train_images/10274.tiff  \n",
       "2    Male  ../data/train_images/10392.tiff  \n",
       "3    Male  ../data/train_images/10488.tiff  \n",
       "4  Female  ../data/train_images/10610.tiff  "
      ]
     },
     "execution_count": 4,
     "metadata": {},
     "output_type": "execute_result"
    }
   ],
   "source": [
    "train_df = pd.read_csv(data_path / \"train.csv\")\n",
    "train_df['path'] = train_df.id.apply(lambda x: f'{str(train_images_path)}/{x}.tiff')\n",
    "train_df.head()"
   ]
  },
  {
   "cell_type": "markdown",
   "metadata": {},
   "source": [
    "## UNet from scratch"
   ]
  },
  {
   "cell_type": "code",
   "execution_count": 5,
   "metadata": {},
   "outputs": [],
   "source": [
    "number_of_classes = 2 # 2 classes\n",
    "number_of_channels = 3\n",
    "\n",
    "def conv3x3_bn(ci, co):\n",
    "    return torch.nn.Sequential(\n",
    "        torch.nn.Conv2d(ci, co, 3, padding=1),\n",
    "        torch.nn.BatchNorm2d(co),\n",
    "        torch.nn.ReLU(inplace=True)\n",
    "    )\n",
    "\n",
    "def encoder_conv(ci, co):\n",
    "  return torch.nn.Sequential(\n",
    "        torch.nn.MaxPool2d(2),\n",
    "        conv3x3_bn(ci, co),\n",
    "        conv3x3_bn(co, co),\n",
    "    )\n",
    "\n",
    "class deconv(torch.nn.Module):\n",
    "    def __init__(self, ci, co):\n",
    "        super(deconv, self).__init__()\n",
    "        self.upsample = torch.nn.ConvTranspose2d(ci, co, 2, stride=2)\n",
    "        self.conv1 = conv3x3_bn(ci, co)\n",
    "        self.conv2 = conv3x3_bn(co, co)\n",
    "    \n",
    "    # recibe la salida de la capa anetrior y la salida de la etapa\n",
    "    # correspondiente del encoder\n",
    "    def forward(self, x1, x2):\n",
    "        x1 = self.upsample(x1)\n",
    "        diffX = x2.size()[2] - x1.size()[2]\n",
    "        diffY = x2.size()[3] - x1.size()[3]\n",
    "        x1 = F.pad(x1, (diffX, 0, diffY, 0))\n",
    "        # concatenamos los tensores\n",
    "        x = torch.cat([x2, x1], dim=1)\n",
    "        x = self.conv1(x)\n",
    "        x = self.conv2(x)\n",
    "        return x\n",
    "\n",
    "class UNet(torch.nn.Module):\n",
    "    def __init__(self, n_classes=number_of_classes, in_ch=number_of_channels, log=False):\n",
    "        super().__init__()\n",
    "\n",
    "        self.log = log\n",
    "\n",
    "        # lista de capas en encoder-decoder con número de filtros\n",
    "        c = [16, 32, 64, 128]\n",
    "\n",
    "        # primera capa conv que recibe la imagen\n",
    "        self.conv1 = torch.nn.Sequential(\n",
    "          conv3x3_bn(in_ch, c[0]),\n",
    "          conv3x3_bn(c[0], c[0]),\n",
    "        )\n",
    "        # capas del encoder\n",
    "        self.conv2 = encoder_conv(c[0], c[1])\n",
    "        self.conv3 = encoder_conv(c[1], c[2])\n",
    "        self.conv4 = encoder_conv(c[2], c[3])\n",
    "\n",
    "        # capas del decoder\n",
    "        self.deconv1 = deconv(c[3],c[2])\n",
    "        self.deconv2 = deconv(c[2],c[1])\n",
    "        self.deconv3 = deconv(c[1],c[0])\n",
    "\n",
    "        # útlima capa conv que nos da la máscara\n",
    "        self.out = torch.nn.Conv2d(c[0], n_classes, 3, padding=1)\n",
    "\n",
    "    def forward(self, x):\n",
    "        if self.log:\n",
    "            print('\\t\\tinput shape: ', x.shape)\n",
    "        # encoder\n",
    "        x1 = self.conv1(x)\n",
    "        x2 = self.conv2(x1)\n",
    "        x3 = self.conv3(x2)\n",
    "        x = self.conv4(x3)\n",
    "        # decoder\n",
    "        x = self.deconv1(x, x3)\n",
    "        x = self.deconv2(x, x2)\n",
    "        x = self.deconv3(x, x1)\n",
    "        x = self.out(x)\n",
    "        return x"
   ]
  },
  {
   "cell_type": "markdown",
   "metadata": {},
   "source": [
    "## Dice coefficient loss"
   ]
  },
  {
   "cell_type": "code",
   "execution_count": 6,
   "metadata": {},
   "outputs": [],
   "source": [
    "def dice_coeff(pred, target):\n",
    "    smooth = 1.\n",
    "    num = pred.size(1)\n",
    "    m1 = pred.view(num, -1).float()  # Flatten\n",
    "    m2 = target.view(num, -1).float()  # Flatten\n",
    "    intersection = (m1 * m2).sum().float()\n",
    "    dice = (2. * intersection + smooth) / (m1.sum() + m2.sum() + smooth)\n",
    "    dice = dice.item()\n",
    "\n",
    "    return dice"
   ]
  },
  {
   "cell_type": "markdown",
   "metadata": {},
   "source": [
    "## Train all images"
   ]
  },
  {
   "cell_type": "code",
   "execution_count": 7,
   "metadata": {},
   "outputs": [],
   "source": [
    "def rle2mask(mask_rle, shape):\n",
    "    '''\n",
    "    mask_rle: run-length as string formated (start length)\n",
    "    shape: (width,height) of array to return \n",
    "    Returns numpy array, 1 - mask, 0 - background\n",
    "\n",
    "    '''\n",
    "    s = mask_rle.split()\n",
    "    starts, lengths = [\n",
    "        np.asarray(x, dtype=int) for x in (s[0:][::2], s[1:][::2])\n",
    "    ]\n",
    "    starts -= 1\n",
    "    ends = starts + lengths\n",
    "    img = np.zeros(shape[0] * shape[1], dtype=np.uint8)\n",
    "    for lo, hi in zip(starts, ends):\n",
    "        img[lo : hi] = 1\n",
    "    if len(shape) == 3:\n",
    "        img = img.reshape(shape[0], shape[1])\n",
    "    else:\n",
    "        img = img.reshape(shape[0], shape[1])\n",
    "    return img.T"
   ]
  },
  {
   "cell_type": "code",
   "execution_count": 8,
   "metadata": {},
   "outputs": [],
   "source": [
    "class Dataset(torch.utils.data.Dataset):\n",
    "  def __init__(self, dataframe, n_classes=2, dim=2000, interpolation=cv2.INTER_LANCZOS4):\n",
    "    self.dataframe = dataframe\n",
    "    self.n_classes = n_classes\n",
    "    self.dim = dim\n",
    "    self.interpolation = interpolation\n",
    "\n",
    "  def __len__(self):\n",
    "    return len(self.dataframe)\n",
    "\n",
    "  def __getitem__(self, ix):\n",
    "    # Get image path from column 'path' in dataframe\n",
    "    img_path = str(self.dataframe.iloc[ix]['path'])\n",
    "    # Load image\n",
    "    img_cv = cv2.imread(img_path)\n",
    "    img_cv = cv2.cvtColor(img_cv, cv2.COLOR_BGR2RGB)\n",
    "    # Resize image\n",
    "    img_cv_res = cv2.resize(img_cv, dsize=(self.dim, self.dim), interpolation=self.interpolation)\n",
    "    # Normalize image\n",
    "    img_cv_res_norm = img_cv_res / 255.0\n",
    "    # Convert to tensor\n",
    "    img_tensor = torch.from_numpy(img_cv_res_norm).float().permute(2, 0, 1)\n",
    "\n",
    "    # Get mask\n",
    "    rle = self.dataframe.iloc[ix]['rle']\n",
    "    mask_cv = rle2mask(rle, img_cv.shape)\n",
    "    # Resize mask\n",
    "    mask_cv_res = cv2.resize(mask_cv, dsize=(self.dim, self.dim), interpolation=self.interpolation)\n",
    "    # One-hot encode mask\n",
    "    mask_oh = np.eye(2)[mask_cv_res.astype(int)].astype(np.float32)\n",
    "    # Convert to tensor\n",
    "    mask_tensor = torch.from_numpy(mask_oh).float().permute(2, 0, 1)\n",
    "    \n",
    "    return img_tensor, mask_tensor"
   ]
  },
  {
   "cell_type": "code",
   "execution_count": 9,
   "metadata": {},
   "outputs": [
    {
     "name": "stdout",
     "output_type": "stream",
     "text": [
      "Había 351 imágenes en el dataset, lo hemos dividido en 300 imágenes de entrenamiento y 51 imágenes de validación\n"
     ]
    }
   ],
   "source": [
    "division = 300\n",
    "resize_img = 800\n",
    "dataset = {\n",
    "    'train': Dataset(train_df[:division], n_classes=2, dim=resize_img),\n",
    "    'val': Dataset(train_df[division:], n_classes=2, dim=resize_img),\n",
    "}\n",
    "\n",
    "print(f\"Había {len(train_df)} imágenes en el dataset, lo hemos dividido en {len(dataset['train'])} imágenes de entrenamiento y {len(dataset['val'])} imágenes de validación\")"
   ]
  },
  {
   "cell_type": "code",
   "execution_count": 10,
   "metadata": {},
   "outputs": [],
   "source": [
    "BS_train = 10\n",
    "BS_val = 16\n",
    "dataloader = {\n",
    "    'train': torch.utils.data.DataLoader(dataset['train'], batch_size=BS_train, shuffle=True, pin_memory=True),\n",
    "    'test': torch.utils.data.DataLoader(dataset['val'], batch_size=BS_val, pin_memory=True)\n",
    "}"
   ]
  },
  {
   "cell_type": "code",
   "execution_count": 11,
   "metadata": {},
   "outputs": [],
   "source": [
    "from tqdm import tqdm\n",
    "device = \"cuda\" if torch.cuda.is_available() else \"cpu\"\n",
    "\n",
    "def fit(model, dataloader, epochs=100, lr=3e-4, parallel=False):\n",
    "    len_int_epochs = len(str(epochs))\n",
    "    optimizer = torch.optim.Adam(model.parameters(), lr=lr)\n",
    "    criterion = torch.nn.BCEWithLogitsLoss()\n",
    "    if torch.cuda.device_count() >= 1:\n",
    "        print(\"Let's use\", torch.cuda.device_count(), \"GPUs!\")\n",
    "        if parallel:\n",
    "            model = torch.nn.DataParallel(model)\n",
    "        model.cuda()\n",
    "    else:\n",
    "        print(\"Let's use CPU!\")\n",
    "        model.to(device)\n",
    "    hist = {'loss': [], 'dice': [], 'test_loss': [], 'test_dice': []}\n",
    "    for epoch in range(epochs):\n",
    "        bar = tqdm(dataloader['train'])\n",
    "        train_loss, train_dice = [], []\n",
    "        model.train()\n",
    "        for imgs, masks in bar:\n",
    "            imgs, masks = imgs.to(device), masks.to(device)\n",
    "            optimizer.zero_grad()\n",
    "            pred_mask = model(imgs)\n",
    "            loss = criterion(pred_mask, masks)\n",
    "            loss.backward()\n",
    "            optimizer.step()\n",
    "            dice = dice_coeff(pred_mask, masks)\n",
    "            train_loss.append(loss.item())\n",
    "            train_dice.append(dice)\n",
    "            bar.set_description(f\"\\t\\tloss {np.mean(train_loss):.5f}, dice {np.mean(train_dice):.5f}\")\n",
    "        hist['loss'].append(np.mean(train_loss))\n",
    "        hist['dice'].append(np.mean(train_dice))\n",
    "        bar = tqdm(dataloader['test'])\n",
    "        test_loss, test_dice = [], []\n",
    "        model.eval()\n",
    "        with torch.no_grad():\n",
    "            for imgs, masks in bar:\n",
    "                imgs, masks = imgs.to(device), masks.to(device)\n",
    "                pred_mask = model(imgs)\n",
    "                loss = criterion(pred_mask, masks)\n",
    "                dice = dice_coeff(pred_mask, masks)\n",
    "                test_loss.append(loss.item())\n",
    "                test_dice.append(dice)\n",
    "                bar.set_description(f\"\\t\\ttest_loss {np.mean(test_loss):.5f} test_dice {np.mean(test_dice):.5f}\")\n",
    "        hist['test_loss'].append(np.mean(test_loss))\n",
    "        hist['test_dice'].append(np.mean(test_dice))\n",
    "        if len_int_epochs == 1:\n",
    "            print(f\"Epoch {(epoch+1):01d}/{epochs:01d} loss {np.mean(train_loss):.5f} dice {np.mean(train_dice):.5f} test_loss {np.mean(test_loss):.5f} test_dice {np.mean(test_dice):.5f}\")\n",
    "        elif len_int_epochs == 2:\n",
    "            print(f\"Epoch {(epoch+1):02d}/{epochs:02d} loss {np.mean(train_loss):.5f} dice {np.mean(train_dice):.5f} test_loss {np.mean(test_loss):.5f} test_dice {np.mean(test_dice):.5f}\")\n",
    "        elif len_int_epochs == 3:\n",
    "            print(f\"Epoch {(epoch+1):03d}/{epochs:03d} loss {np.mean(train_loss):.5f} dice {np.mean(train_dice):.5f} test_loss {np.mean(test_loss):.5f} test_dice {np.mean(test_dice):.5f}\")\n",
    "        elif len_int_epochs == 4:\n",
    "            print(f\"Epoch {(epoch+1):04d}/{epochs:04d} loss {np.mean(train_loss):.5f} dice {np.mean(train_dice):.5f} test_loss {np.mean(test_loss):.5f} test_dice {np.mean(test_dice):.5f}\")\n",
    "    return hist"
   ]
  },
  {
   "cell_type": "code",
   "execution_count": 12,
   "metadata": {},
   "outputs": [
    {
     "name": "stdout",
     "output_type": "stream",
     "text": [
      "Let's use 2 GPUs!\n"
     ]
    },
    {
     "name": "stderr",
     "output_type": "stream",
     "text": [
      "\t\tloss 0.60635, dice 0.29337: 100%|██████████| 30/30 [00:35<00:00,  1.17s/it] \n",
      "\t\ttest_loss 0.50718 test_dice 0.89786: 100%|██████████| 4/4 [00:04<00:00,  1.04s/it]\n"
     ]
    },
    {
     "name": "stdout",
     "output_type": "stream",
     "text": [
      "Epoch 001/100 loss 0.60635 dice 0.29337 test_loss 0.50718 test_dice 0.89786\n"
     ]
    },
    {
     "name": "stderr",
     "output_type": "stream",
     "text": [
      "\t\tloss 0.43786, dice 1.50287: 100%|██████████| 30/30 [00:32<00:00,  1.07s/it]\n",
      "\t\ttest_loss 0.39223 test_dice 1.87336: 100%|██████████| 4/4 [00:04<00:00,  1.00s/it]\n"
     ]
    },
    {
     "name": "stdout",
     "output_type": "stream",
     "text": [
      "Epoch 002/100 loss 0.43786 dice 1.50287 test_loss 0.39223 test_dice 1.87336\n"
     ]
    },
    {
     "name": "stderr",
     "output_type": "stream",
     "text": [
      "\t\tloss 0.33903, dice 2.63949: 100%|██████████| 30/30 [00:31<00:00,  1.06s/it]\n",
      "\t\ttest_loss 0.29136 test_dice 3.60879: 100%|██████████| 4/4 [00:04<00:00,  1.03s/it]\n"
     ]
    },
    {
     "name": "stdout",
     "output_type": "stream",
     "text": [
      "Epoch 003/100 loss 0.33903 dice 2.63949 test_loss 0.29136 test_dice 3.60879\n"
     ]
    },
    {
     "name": "stderr",
     "output_type": "stream",
     "text": [
      "\t\tloss 0.28070, dice 3.67341: 100%|██████████| 30/30 [00:31<00:00,  1.06s/it]\n",
      "\t\ttest_loss 0.28050 test_dice 3.85505: 100%|██████████| 4/4 [00:04<00:00,  1.01s/it]\n"
     ]
    },
    {
     "name": "stdout",
     "output_type": "stream",
     "text": [
      "Epoch 004/100 loss 0.28070 dice 3.67341 test_loss 0.28050 test_dice 3.85505\n"
     ]
    },
    {
     "name": "stderr",
     "output_type": "stream",
     "text": [
      "\t\tloss 0.25459, dice 4.41224: 100%|██████████| 30/30 [00:32<00:00,  1.07s/it]\n",
      "\t\ttest_loss 0.25108 test_dice 4.63223: 100%|██████████| 4/4 [00:04<00:00,  1.01s/it]\n"
     ]
    },
    {
     "name": "stdout",
     "output_type": "stream",
     "text": [
      "Epoch 005/100 loss 0.25459 dice 4.41224 test_loss 0.25108 test_dice 4.63223\n"
     ]
    },
    {
     "name": "stderr",
     "output_type": "stream",
     "text": [
      "\t\tloss 0.24136, dice 4.94783: 100%|██████████| 30/30 [00:32<00:00,  1.07s/it]\n",
      "\t\ttest_loss 0.23729 test_dice 5.14561: 100%|██████████| 4/4 [00:04<00:00,  1.02s/it]\n"
     ]
    },
    {
     "name": "stdout",
     "output_type": "stream",
     "text": [
      "Epoch 006/100 loss 0.24136 dice 4.94783 test_loss 0.23729 test_dice 5.14561\n"
     ]
    },
    {
     "name": "stderr",
     "output_type": "stream",
     "text": [
      "\t\tloss 0.22912, dice 5.33491: 100%|██████████| 30/30 [00:31<00:00,  1.07s/it]\n",
      "\t\ttest_loss 0.21097 test_dice 6.03231: 100%|██████████| 4/4 [00:04<00:00,  1.01s/it]\n"
     ]
    },
    {
     "name": "stdout",
     "output_type": "stream",
     "text": [
      "Epoch 007/100 loss 0.22912 dice 5.33491 test_loss 0.21097 test_dice 6.03231\n"
     ]
    },
    {
     "name": "stderr",
     "output_type": "stream",
     "text": [
      "\t\tloss 0.21791, dice 5.68344: 100%|██████████| 30/30 [00:32<00:00,  1.07s/it]\n",
      "\t\ttest_loss 0.20853 test_dice 5.91318: 100%|██████████| 4/4 [00:04<00:00,  1.02s/it]\n"
     ]
    },
    {
     "name": "stdout",
     "output_type": "stream",
     "text": [
      "Epoch 008/100 loss 0.21791 dice 5.68344 test_loss 0.20853 test_dice 5.91318\n"
     ]
    },
    {
     "name": "stderr",
     "output_type": "stream",
     "text": [
      "\t\tloss 0.21593, dice 5.94884: 100%|██████████| 30/30 [00:32<00:00,  1.10s/it]\n",
      "\t\ttest_loss 0.21395 test_dice 6.18788: 100%|██████████| 4/4 [00:04<00:00,  1.10s/it]\n"
     ]
    },
    {
     "name": "stdout",
     "output_type": "stream",
     "text": [
      "Epoch 009/100 loss 0.21593 dice 5.94884 test_loss 0.21395 test_dice 6.18788\n"
     ]
    },
    {
     "name": "stderr",
     "output_type": "stream",
     "text": [
      "\t\tloss 0.20880, dice 6.17987: 100%|██████████| 30/30 [00:32<00:00,  1.09s/it]\n",
      "\t\ttest_loss 0.19707 test_dice 6.26982: 100%|██████████| 4/4 [00:04<00:00,  1.01s/it]\n"
     ]
    },
    {
     "name": "stdout",
     "output_type": "stream",
     "text": [
      "Epoch 010/100 loss 0.20880 dice 6.17987 test_loss 0.19707 test_dice 6.26982\n"
     ]
    },
    {
     "name": "stderr",
     "output_type": "stream",
     "text": [
      "\t\tloss 0.20693, dice 6.35792: 100%|██████████| 30/30 [00:32<00:00,  1.07s/it]\n",
      "\t\ttest_loss 0.20868 test_dice 7.53874: 100%|██████████| 4/4 [00:04<00:00,  1.02s/it]\n"
     ]
    },
    {
     "name": "stdout",
     "output_type": "stream",
     "text": [
      "Epoch 011/100 loss 0.20693 dice 6.35792 test_loss 0.20868 test_dice 7.53874\n"
     ]
    },
    {
     "name": "stderr",
     "output_type": "stream",
     "text": [
      "\t\tloss 0.20068, dice 6.52999: 100%|██████████| 30/30 [00:31<00:00,  1.06s/it]\n",
      "\t\ttest_loss 0.22002 test_dice 6.65608: 100%|██████████| 4/4 [00:04<00:00,  1.01s/it]\n"
     ]
    },
    {
     "name": "stdout",
     "output_type": "stream",
     "text": [
      "Epoch 012/100 loss 0.20068 dice 6.52999 test_loss 0.22002 test_dice 6.65608\n"
     ]
    },
    {
     "name": "stderr",
     "output_type": "stream",
     "text": [
      "\t\tloss 0.19925, dice 6.70337: 100%|██████████| 30/30 [00:32<00:00,  1.08s/it]\n",
      "\t\ttest_loss 0.20494 test_dice 6.62969: 100%|██████████| 4/4 [00:04<00:00,  1.01s/it]\n"
     ]
    },
    {
     "name": "stdout",
     "output_type": "stream",
     "text": [
      "Epoch 013/100 loss 0.19925 dice 6.70337 test_loss 0.20494 test_dice 6.62969\n"
     ]
    },
    {
     "name": "stderr",
     "output_type": "stream",
     "text": [
      "\t\tloss 0.20930, dice 6.77167: 100%|██████████| 30/30 [00:32<00:00,  1.08s/it]\n",
      "\t\ttest_loss 0.19758 test_dice 6.20343: 100%|██████████| 4/4 [00:04<00:00,  1.04s/it]\n"
     ]
    },
    {
     "name": "stdout",
     "output_type": "stream",
     "text": [
      "Epoch 014/100 loss 0.20930 dice 6.77167 test_loss 0.19758 test_dice 6.20343\n"
     ]
    },
    {
     "name": "stderr",
     "output_type": "stream",
     "text": [
      "\t\tloss 0.19647, dice 6.92512: 100%|██████████| 30/30 [00:32<00:00,  1.07s/it]\n",
      "\t\ttest_loss 0.18969 test_dice 7.20055: 100%|██████████| 4/4 [00:04<00:00,  1.02s/it]\n"
     ]
    },
    {
     "name": "stdout",
     "output_type": "stream",
     "text": [
      "Epoch 015/100 loss 0.19647 dice 6.92512 test_loss 0.18969 test_dice 7.20055\n"
     ]
    },
    {
     "name": "stderr",
     "output_type": "stream",
     "text": [
      "\t\tloss 0.19441, dice 7.09731: 100%|██████████| 30/30 [00:32<00:00,  1.08s/it]\n",
      "\t\ttest_loss 0.20038 test_dice 6.68346: 100%|██████████| 4/4 [00:04<00:00,  1.04s/it]\n"
     ]
    },
    {
     "name": "stdout",
     "output_type": "stream",
     "text": [
      "Epoch 016/100 loss 0.19441 dice 7.09731 test_loss 0.20038 test_dice 6.68346\n"
     ]
    },
    {
     "name": "stderr",
     "output_type": "stream",
     "text": [
      "\t\tloss 0.18896, dice 7.21813: 100%|██████████| 30/30 [00:31<00:00,  1.06s/it]\n",
      "\t\ttest_loss 0.19701 test_dice 8.09821: 100%|██████████| 4/4 [00:04<00:00,  1.01s/it]\n"
     ]
    },
    {
     "name": "stdout",
     "output_type": "stream",
     "text": [
      "Epoch 017/100 loss 0.18896 dice 7.21813 test_loss 0.19701 test_dice 8.09821\n"
     ]
    },
    {
     "name": "stderr",
     "output_type": "stream",
     "text": [
      "\t\tloss 0.18976, dice 7.34885: 100%|██████████| 30/30 [00:32<00:00,  1.08s/it]\n",
      "\t\ttest_loss 0.20994 test_dice 6.69268: 100%|██████████| 4/4 [00:04<00:00,  1.01s/it]\n"
     ]
    },
    {
     "name": "stdout",
     "output_type": "stream",
     "text": [
      "Epoch 018/100 loss 0.18976 dice 7.34885 test_loss 0.20994 test_dice 6.69268\n"
     ]
    },
    {
     "name": "stderr",
     "output_type": "stream",
     "text": [
      "\t\tloss 0.18821, dice 7.44954: 100%|██████████| 30/30 [00:32<00:00,  1.09s/it]\n",
      "\t\ttest_loss 0.19236 test_dice 8.09529: 100%|██████████| 4/4 [00:04<00:00,  1.01s/it]\n"
     ]
    },
    {
     "name": "stdout",
     "output_type": "stream",
     "text": [
      "Epoch 019/100 loss 0.18821 dice 7.44954 test_loss 0.19236 test_dice 8.09529\n"
     ]
    },
    {
     "name": "stderr",
     "output_type": "stream",
     "text": [
      "\t\tloss 0.18386, dice 7.51753: 100%|██████████| 30/30 [00:32<00:00,  1.07s/it]\n",
      "\t\ttest_loss 0.18707 test_dice 7.53407: 100%|██████████| 4/4 [00:04<00:00,  1.02s/it]\n"
     ]
    },
    {
     "name": "stdout",
     "output_type": "stream",
     "text": [
      "Epoch 020/100 loss 0.18386 dice 7.51753 test_loss 0.18707 test_dice 7.53407\n"
     ]
    },
    {
     "name": "stderr",
     "output_type": "stream",
     "text": [
      "\t\tloss 0.17914, dice 7.64906: 100%|██████████| 30/30 [00:32<00:00,  1.08s/it]\n",
      "\t\ttest_loss 0.18921 test_dice 7.68848: 100%|██████████| 4/4 [00:04<00:00,  1.04s/it]\n"
     ]
    },
    {
     "name": "stdout",
     "output_type": "stream",
     "text": [
      "Epoch 021/100 loss 0.17914 dice 7.64906 test_loss 0.18921 test_dice 7.68848\n"
     ]
    },
    {
     "name": "stderr",
     "output_type": "stream",
     "text": [
      "\t\tloss 0.18230, dice 7.73351: 100%|██████████| 30/30 [00:32<00:00,  1.10s/it]\n",
      "\t\ttest_loss 0.19294 test_dice 7.14380: 100%|██████████| 4/4 [00:04<00:00,  1.02s/it]\n"
     ]
    },
    {
     "name": "stdout",
     "output_type": "stream",
     "text": [
      "Epoch 022/100 loss 0.18230 dice 7.73351 test_loss 0.19294 test_dice 7.14380\n"
     ]
    },
    {
     "name": "stderr",
     "output_type": "stream",
     "text": [
      "\t\tloss 0.18522, dice 7.81518: 100%|██████████| 30/30 [00:32<00:00,  1.08s/it]\n",
      "\t\ttest_loss 0.17731 test_dice 7.67731: 100%|██████████| 4/4 [00:04<00:00,  1.04s/it]\n"
     ]
    },
    {
     "name": "stdout",
     "output_type": "stream",
     "text": [
      "Epoch 023/100 loss 0.18522 dice 7.81518 test_loss 0.17731 test_dice 7.67731\n"
     ]
    },
    {
     "name": "stderr",
     "output_type": "stream",
     "text": [
      "\t\tloss 0.17957, dice 7.85499: 100%|██████████| 30/30 [00:32<00:00,  1.09s/it]\n",
      "\t\ttest_loss 0.18154 test_dice 7.96089: 100%|██████████| 4/4 [00:04<00:00,  1.02s/it]\n"
     ]
    },
    {
     "name": "stdout",
     "output_type": "stream",
     "text": [
      "Epoch 024/100 loss 0.17957 dice 7.85499 test_loss 0.18154 test_dice 7.96089\n"
     ]
    },
    {
     "name": "stderr",
     "output_type": "stream",
     "text": [
      "\t\tloss 0.17136, dice 8.00299: 100%|██████████| 30/30 [00:32<00:00,  1.09s/it]\n",
      "\t\ttest_loss 0.17538 test_dice 7.78246: 100%|██████████| 4/4 [00:04<00:00,  1.03s/it]\n"
     ]
    },
    {
     "name": "stdout",
     "output_type": "stream",
     "text": [
      "Epoch 025/100 loss 0.17136 dice 8.00299 test_loss 0.17538 test_dice 7.78246\n"
     ]
    },
    {
     "name": "stderr",
     "output_type": "stream",
     "text": [
      "\t\tloss 0.17126, dice 8.10360: 100%|██████████| 30/30 [00:33<00:00,  1.11s/it]\n",
      "\t\ttest_loss 0.17916 test_dice 8.86316: 100%|██████████| 4/4 [00:04<00:00,  1.05s/it]\n"
     ]
    },
    {
     "name": "stdout",
     "output_type": "stream",
     "text": [
      "Epoch 026/100 loss 0.17126 dice 8.10360 test_loss 0.17916 test_dice 8.86316\n"
     ]
    },
    {
     "name": "stderr",
     "output_type": "stream",
     "text": [
      "\t\tloss 0.17570, dice 8.16792: 100%|██████████| 30/30 [00:32<00:00,  1.07s/it]\n",
      "\t\ttest_loss 0.17555 test_dice 8.18649: 100%|██████████| 4/4 [00:04<00:00,  1.05s/it]\n"
     ]
    },
    {
     "name": "stdout",
     "output_type": "stream",
     "text": [
      "Epoch 027/100 loss 0.17570 dice 8.16792 test_loss 0.17555 test_dice 8.18649\n"
     ]
    },
    {
     "name": "stderr",
     "output_type": "stream",
     "text": [
      "\t\tloss 0.16553, dice 8.28615: 100%|██████████| 30/30 [00:32<00:00,  1.07s/it]\n",
      "\t\ttest_loss 0.17659 test_dice 8.67253: 100%|██████████| 4/4 [00:03<00:00,  1.01it/s]\n"
     ]
    },
    {
     "name": "stdout",
     "output_type": "stream",
     "text": [
      "Epoch 028/100 loss 0.16553 dice 8.28615 test_loss 0.17659 test_dice 8.67253\n"
     ]
    },
    {
     "name": "stderr",
     "output_type": "stream",
     "text": [
      "\t\tloss 0.16723, dice 8.42279: 100%|██████████| 30/30 [00:31<00:00,  1.06s/it]\n",
      "\t\ttest_loss 0.19568 test_dice 7.45681: 100%|██████████| 4/4 [00:04<00:00,  1.00s/it]\n"
     ]
    },
    {
     "name": "stdout",
     "output_type": "stream",
     "text": [
      "Epoch 029/100 loss 0.16723 dice 8.42279 test_loss 0.19568 test_dice 7.45681\n"
     ]
    },
    {
     "name": "stderr",
     "output_type": "stream",
     "text": [
      "\t\tloss 0.16448, dice 8.47726: 100%|██████████| 30/30 [00:32<00:00,  1.08s/it]\n",
      "\t\ttest_loss 0.18972 test_dice 7.98561: 100%|██████████| 4/4 [00:04<00:00,  1.02s/it]\n"
     ]
    },
    {
     "name": "stdout",
     "output_type": "stream",
     "text": [
      "Epoch 030/100 loss 0.16448 dice 8.47726 test_loss 0.18972 test_dice 7.98561\n"
     ]
    },
    {
     "name": "stderr",
     "output_type": "stream",
     "text": [
      "\t\tloss 0.16937, dice 8.46204: 100%|██████████| 30/30 [00:33<00:00,  1.11s/it]\n",
      "\t\ttest_loss 0.16234 test_dice 8.50544: 100%|██████████| 4/4 [00:04<00:00,  1.02s/it]\n"
     ]
    },
    {
     "name": "stdout",
     "output_type": "stream",
     "text": [
      "Epoch 031/100 loss 0.16937 dice 8.46204 test_loss 0.16234 test_dice 8.50544\n"
     ]
    },
    {
     "name": "stderr",
     "output_type": "stream",
     "text": [
      "\t\tloss 0.16338, dice 8.56703: 100%|██████████| 30/30 [00:33<00:00,  1.12s/it]\n",
      "\t\ttest_loss 0.15826 test_dice 8.40039: 100%|██████████| 4/4 [00:04<00:00,  1.06s/it]\n"
     ]
    },
    {
     "name": "stdout",
     "output_type": "stream",
     "text": [
      "Epoch 032/100 loss 0.16338 dice 8.56703 test_loss 0.15826 test_dice 8.40039\n"
     ]
    },
    {
     "name": "stderr",
     "output_type": "stream",
     "text": [
      "\t\tloss 0.16125, dice 8.62775: 100%|██████████| 30/30 [00:32<00:00,  1.08s/it]\n",
      "\t\ttest_loss 0.18833 test_dice 9.07117: 100%|██████████| 4/4 [00:04<00:00,  1.03s/it]\n"
     ]
    },
    {
     "name": "stdout",
     "output_type": "stream",
     "text": [
      "Epoch 033/100 loss 0.16125 dice 8.62775 test_loss 0.18833 test_dice 9.07117\n"
     ]
    },
    {
     "name": "stderr",
     "output_type": "stream",
     "text": [
      "\t\tloss 0.16414, dice 8.70270: 100%|██████████| 30/30 [00:32<00:00,  1.07s/it]\n",
      "\t\ttest_loss 0.19791 test_dice 9.66407: 100%|██████████| 4/4 [00:04<00:00,  1.04s/it]\n"
     ]
    },
    {
     "name": "stdout",
     "output_type": "stream",
     "text": [
      "Epoch 034/100 loss 0.16414 dice 8.70270 test_loss 0.19791 test_dice 9.66407\n"
     ]
    },
    {
     "name": "stderr",
     "output_type": "stream",
     "text": [
      "\t\tloss 0.16727, dice 8.72688: 100%|██████████| 30/30 [00:31<00:00,  1.06s/it]\n",
      "\t\ttest_loss 0.17662 test_dice 9.29929: 100%|██████████| 4/4 [00:04<00:00,  1.03s/it]\n"
     ]
    },
    {
     "name": "stdout",
     "output_type": "stream",
     "text": [
      "Epoch 035/100 loss 0.16727 dice 8.72688 test_loss 0.17662 test_dice 9.29929\n"
     ]
    },
    {
     "name": "stderr",
     "output_type": "stream",
     "text": [
      "\t\tloss 0.15896, dice 8.84829: 100%|██████████| 30/30 [00:31<00:00,  1.06s/it]\n",
      "\t\ttest_loss 0.16492 test_dice 8.66083: 100%|██████████| 4/4 [00:04<00:00,  1.07s/it]\n"
     ]
    },
    {
     "name": "stdout",
     "output_type": "stream",
     "text": [
      "Epoch 036/100 loss 0.15896 dice 8.84829 test_loss 0.16492 test_dice 8.66083\n"
     ]
    },
    {
     "name": "stderr",
     "output_type": "stream",
     "text": [
      "\t\tloss 0.15152, dice 8.91650: 100%|██████████| 30/30 [00:32<00:00,  1.09s/it]\n",
      "\t\ttest_loss 0.20652 test_dice 7.65420: 100%|██████████| 4/4 [00:04<00:00,  1.02s/it]\n"
     ]
    },
    {
     "name": "stdout",
     "output_type": "stream",
     "text": [
      "Epoch 037/100 loss 0.15152 dice 8.91650 test_loss 0.20652 test_dice 7.65420\n"
     ]
    },
    {
     "name": "stderr",
     "output_type": "stream",
     "text": [
      "\t\tloss 0.15840, dice 8.93723: 100%|██████████| 30/30 [00:31<00:00,  1.06s/it]\n",
      "\t\ttest_loss 0.16400 test_dice 9.82688: 100%|██████████| 4/4 [00:04<00:00,  1.01s/it] \n"
     ]
    },
    {
     "name": "stdout",
     "output_type": "stream",
     "text": [
      "Epoch 038/100 loss 0.15840 dice 8.93723 test_loss 0.16400 test_dice 9.82688\n"
     ]
    },
    {
     "name": "stderr",
     "output_type": "stream",
     "text": [
      "\t\tloss 0.15998, dice 8.99748: 100%|██████████| 30/30 [00:31<00:00,  1.06s/it]\n",
      "\t\ttest_loss 0.15630 test_dice 8.99267: 100%|██████████| 4/4 [00:04<00:00,  1.04s/it]\n"
     ]
    },
    {
     "name": "stdout",
     "output_type": "stream",
     "text": [
      "Epoch 039/100 loss 0.15998 dice 8.99748 test_loss 0.15630 test_dice 8.99267\n"
     ]
    },
    {
     "name": "stderr",
     "output_type": "stream",
     "text": [
      "\t\tloss 0.15339, dice 9.07850: 100%|██████████| 30/30 [00:32<00:00,  1.10s/it]\n",
      "\t\ttest_loss 0.17819 test_dice 7.61440: 100%|██████████| 4/4 [00:04<00:00,  1.02s/it]\n"
     ]
    },
    {
     "name": "stdout",
     "output_type": "stream",
     "text": [
      "Epoch 040/100 loss 0.15339 dice 9.07850 test_loss 0.17819 test_dice 7.61440\n"
     ]
    },
    {
     "name": "stderr",
     "output_type": "stream",
     "text": [
      "\t\tloss 0.15039, dice 9.15997: 100%|██████████| 30/30 [00:32<00:00,  1.09s/it]\n",
      "\t\ttest_loss 0.15763 test_dice 9.29187: 100%|██████████| 4/4 [00:04<00:00,  1.02s/it]\n"
     ]
    },
    {
     "name": "stdout",
     "output_type": "stream",
     "text": [
      "Epoch 041/100 loss 0.15039 dice 9.15997 test_loss 0.15763 test_dice 9.29187\n"
     ]
    },
    {
     "name": "stderr",
     "output_type": "stream",
     "text": [
      "\t\tloss 0.15550, dice 9.19235: 100%|██████████| 30/30 [00:32<00:00,  1.08s/it]\n",
      "\t\ttest_loss 0.16000 test_dice 9.55931: 100%|██████████| 4/4 [00:03<00:00,  1.00it/s]\n"
     ]
    },
    {
     "name": "stdout",
     "output_type": "stream",
     "text": [
      "Epoch 042/100 loss 0.15550 dice 9.19235 test_loss 0.16000 test_dice 9.55931\n"
     ]
    },
    {
     "name": "stderr",
     "output_type": "stream",
     "text": [
      "\t\tloss 0.15285, dice 9.26779: 100%|██████████| 30/30 [00:33<00:00,  1.10s/it]\n",
      "\t\ttest_loss 0.25649 test_dice 5.13302: 100%|██████████| 4/4 [00:04<00:00,  1.05s/it]\n"
     ]
    },
    {
     "name": "stdout",
     "output_type": "stream",
     "text": [
      "Epoch 043/100 loss 0.15285 dice 9.26779 test_loss 0.25649 test_dice 5.13302\n"
     ]
    },
    {
     "name": "stderr",
     "output_type": "stream",
     "text": [
      "\t\tloss 0.15288, dice 9.33168: 100%|██████████| 30/30 [00:32<00:00,  1.09s/it]\n",
      "\t\ttest_loss 0.16020 test_dice 9.30705: 100%|██████████| 4/4 [00:04<00:00,  1.02s/it]\n"
     ]
    },
    {
     "name": "stdout",
     "output_type": "stream",
     "text": [
      "Epoch 044/100 loss 0.15288 dice 9.33168 test_loss 0.16020 test_dice 9.30705\n"
     ]
    },
    {
     "name": "stderr",
     "output_type": "stream",
     "text": [
      "\t\tloss 0.14928, dice 9.35928: 100%|██████████| 30/30 [00:32<00:00,  1.07s/it]\n",
      "\t\ttest_loss 0.15641 test_dice 11.00020: 100%|██████████| 4/4 [00:04<00:00,  1.03s/it]\n"
     ]
    },
    {
     "name": "stdout",
     "output_type": "stream",
     "text": [
      "Epoch 045/100 loss 0.14928 dice 9.35928 test_loss 0.15641 test_dice 11.00020\n"
     ]
    },
    {
     "name": "stderr",
     "output_type": "stream",
     "text": [
      "\t\tloss 0.15126, dice 9.35377: 100%|██████████| 30/30 [00:32<00:00,  1.10s/it]\n",
      "\t\ttest_loss 0.15649 test_dice 8.56506: 100%|██████████| 4/4 [00:04<00:00,  1.02s/it]\n"
     ]
    },
    {
     "name": "stdout",
     "output_type": "stream",
     "text": [
      "Epoch 046/100 loss 0.15126 dice 9.35377 test_loss 0.15649 test_dice 8.56506\n"
     ]
    },
    {
     "name": "stderr",
     "output_type": "stream",
     "text": [
      "\t\tloss 0.14441, dice 9.46735: 100%|██████████| 30/30 [00:32<00:00,  1.10s/it]\n",
      "\t\ttest_loss 0.14909 test_dice 8.79735: 100%|██████████| 4/4 [00:04<00:00,  1.04s/it]\n"
     ]
    },
    {
     "name": "stdout",
     "output_type": "stream",
     "text": [
      "Epoch 047/100 loss 0.14441 dice 9.46735 test_loss 0.14909 test_dice 8.79735\n"
     ]
    },
    {
     "name": "stderr",
     "output_type": "stream",
     "text": [
      "\t\tloss 0.14494, dice 9.54642: 100%|██████████| 30/30 [00:32<00:00,  1.08s/it]\n",
      "\t\ttest_loss 0.15781 test_dice 8.77270: 100%|██████████| 4/4 [00:04<00:00,  1.01s/it]\n"
     ]
    },
    {
     "name": "stdout",
     "output_type": "stream",
     "text": [
      "Epoch 048/100 loss 0.14494 dice 9.54642 test_loss 0.15781 test_dice 8.77270\n"
     ]
    },
    {
     "name": "stderr",
     "output_type": "stream",
     "text": [
      "\t\tloss 0.13928, dice 9.64344: 100%|██████████| 30/30 [00:32<00:00,  1.08s/it]\n",
      "\t\ttest_loss 0.14496 test_dice 9.91644: 100%|██████████| 4/4 [00:04<00:00,  1.05s/it] \n"
     ]
    },
    {
     "name": "stdout",
     "output_type": "stream",
     "text": [
      "Epoch 049/100 loss 0.13928 dice 9.64344 test_loss 0.14496 test_dice 9.91644\n"
     ]
    },
    {
     "name": "stderr",
     "output_type": "stream",
     "text": [
      "\t\tloss 0.14098, dice 9.71737: 100%|██████████| 30/30 [00:31<00:00,  1.05s/it]\n",
      "\t\ttest_loss 0.17670 test_dice 8.88939: 100%|██████████| 4/4 [00:04<00:00,  1.00s/it]\n"
     ]
    },
    {
     "name": "stdout",
     "output_type": "stream",
     "text": [
      "Epoch 050/100 loss 0.14098 dice 9.71737 test_loss 0.17670 test_dice 8.88939\n"
     ]
    },
    {
     "name": "stderr",
     "output_type": "stream",
     "text": [
      "\t\tloss 0.14312, dice 9.71940: 100%|██████████| 30/30 [00:32<00:00,  1.08s/it]\n",
      "\t\ttest_loss 0.16420 test_dice 10.25742: 100%|██████████| 4/4 [00:04<00:00,  1.01s/it]\n"
     ]
    },
    {
     "name": "stdout",
     "output_type": "stream",
     "text": [
      "Epoch 051/100 loss 0.14312 dice 9.71940 test_loss 0.16420 test_dice 10.25742\n"
     ]
    },
    {
     "name": "stderr",
     "output_type": "stream",
     "text": [
      "\t\tloss 0.14042, dice 9.82530: 100%|██████████| 30/30 [00:32<00:00,  1.07s/it]\n",
      "\t\ttest_loss 0.15604 test_dice 9.64970: 100%|██████████| 4/4 [00:04<00:00,  1.03s/it]\n"
     ]
    },
    {
     "name": "stdout",
     "output_type": "stream",
     "text": [
      "Epoch 052/100 loss 0.14042 dice 9.82530 test_loss 0.15604 test_dice 9.64970\n"
     ]
    },
    {
     "name": "stderr",
     "output_type": "stream",
     "text": [
      "\t\tloss 0.14154, dice 9.83718: 100%|██████████| 30/30 [00:32<00:00,  1.09s/it]\n",
      "\t\ttest_loss 0.15300 test_dice 10.96134: 100%|██████████| 4/4 [00:04<00:00,  1.05s/it]\n"
     ]
    },
    {
     "name": "stdout",
     "output_type": "stream",
     "text": [
      "Epoch 053/100 loss 0.14154 dice 9.83718 test_loss 0.15300 test_dice 10.96134\n"
     ]
    },
    {
     "name": "stderr",
     "output_type": "stream",
     "text": [
      "\t\tloss 0.13502, dice 9.90448: 100%|██████████| 30/30 [00:32<00:00,  1.07s/it]\n",
      "\t\ttest_loss 0.14919 test_dice 9.69116: 100%|██████████| 4/4 [00:04<00:00,  1.09s/it] \n"
     ]
    },
    {
     "name": "stdout",
     "output_type": "stream",
     "text": [
      "Epoch 054/100 loss 0.13502 dice 9.90448 test_loss 0.14919 test_dice 9.69116\n"
     ]
    },
    {
     "name": "stderr",
     "output_type": "stream",
     "text": [
      "\t\tloss 0.14806, dice 9.84988: 100%|██████████| 30/30 [00:32<00:00,  1.08s/it]\n",
      "\t\ttest_loss 0.16031 test_dice 9.56533: 100%|██████████| 4/4 [00:04<00:00,  1.02s/it]\n"
     ]
    },
    {
     "name": "stdout",
     "output_type": "stream",
     "text": [
      "Epoch 055/100 loss 0.14806 dice 9.84988 test_loss 0.16031 test_dice 9.56533\n"
     ]
    },
    {
     "name": "stderr",
     "output_type": "stream",
     "text": [
      "\t\tloss 0.13943, dice 9.97203: 100%|██████████| 30/30 [00:32<00:00,  1.07s/it]\n",
      "\t\ttest_loss 0.15378 test_dice 10.89234: 100%|██████████| 4/4 [00:04<00:00,  1.01s/it]\n"
     ]
    },
    {
     "name": "stdout",
     "output_type": "stream",
     "text": [
      "Epoch 056/100 loss 0.13943 dice 9.97203 test_loss 0.15378 test_dice 10.89234\n"
     ]
    },
    {
     "name": "stderr",
     "output_type": "stream",
     "text": [
      "\t\tloss 0.14102, dice 10.00553: 100%|██████████| 30/30 [00:32<00:00,  1.10s/it]\n",
      "\t\ttest_loss 0.15049 test_dice 10.20073: 100%|██████████| 4/4 [00:04<00:00,  1.08s/it]\n"
     ]
    },
    {
     "name": "stdout",
     "output_type": "stream",
     "text": [
      "Epoch 057/100 loss 0.14102 dice 10.00553 test_loss 0.15049 test_dice 10.20073\n"
     ]
    },
    {
     "name": "stderr",
     "output_type": "stream",
     "text": [
      "\t\tloss 0.13593, dice 10.04716: 100%|██████████| 30/30 [00:32<00:00,  1.08s/it]\n",
      "\t\ttest_loss 0.15760 test_dice 8.88300: 100%|██████████| 4/4 [00:04<00:00,  1.03s/it]\n"
     ]
    },
    {
     "name": "stdout",
     "output_type": "stream",
     "text": [
      "Epoch 058/100 loss 0.13593 dice 10.04716 test_loss 0.15760 test_dice 8.88300\n"
     ]
    },
    {
     "name": "stderr",
     "output_type": "stream",
     "text": [
      "\t\tloss 0.13159, dice 10.15374: 100%|██████████| 30/30 [00:32<00:00,  1.09s/it]\n",
      "\t\ttest_loss 0.16722 test_dice 10.94097: 100%|██████████| 4/4 [00:04<00:00,  1.04s/it]\n"
     ]
    },
    {
     "name": "stdout",
     "output_type": "stream",
     "text": [
      "Epoch 059/100 loss 0.13159 dice 10.15374 test_loss 0.16722 test_dice 10.94097\n"
     ]
    },
    {
     "name": "stderr",
     "output_type": "stream",
     "text": [
      "\t\tloss 0.13199, dice 10.25210: 100%|██████████| 30/30 [00:32<00:00,  1.09s/it]\n",
      "\t\ttest_loss 0.18988 test_dice 10.98900: 100%|██████████| 4/4 [00:04<00:00,  1.04s/it]\n"
     ]
    },
    {
     "name": "stdout",
     "output_type": "stream",
     "text": [
      "Epoch 060/100 loss 0.13199 dice 10.25210 test_loss 0.18988 test_dice 10.98900\n"
     ]
    },
    {
     "name": "stderr",
     "output_type": "stream",
     "text": [
      "\t\tloss 0.13203, dice 10.31022: 100%|██████████| 30/30 [00:31<00:00,  1.06s/it]\n",
      "\t\ttest_loss 0.14600 test_dice 9.53149: 100%|██████████| 4/4 [00:03<00:00,  1.00it/s]\n"
     ]
    },
    {
     "name": "stdout",
     "output_type": "stream",
     "text": [
      "Epoch 061/100 loss 0.13203 dice 10.31022 test_loss 0.14600 test_dice 9.53149\n"
     ]
    },
    {
     "name": "stderr",
     "output_type": "stream",
     "text": [
      "\t\tloss 0.13663, dice 10.34359: 100%|██████████| 30/30 [00:31<00:00,  1.07s/it]\n",
      "\t\ttest_loss 0.17235 test_dice 10.01423: 100%|██████████| 4/4 [00:04<00:00,  1.01s/it]\n"
     ]
    },
    {
     "name": "stdout",
     "output_type": "stream",
     "text": [
      "Epoch 062/100 loss 0.13663 dice 10.34359 test_loss 0.17235 test_dice 10.01423\n"
     ]
    },
    {
     "name": "stderr",
     "output_type": "stream",
     "text": [
      "\t\tloss 0.13986, dice 10.26015: 100%|██████████| 30/30 [00:31<00:00,  1.07s/it]\n",
      "\t\ttest_loss 0.19318 test_dice 9.94576: 100%|██████████| 4/4 [00:04<00:00,  1.02s/it] \n"
     ]
    },
    {
     "name": "stdout",
     "output_type": "stream",
     "text": [
      "Epoch 063/100 loss 0.13986 dice 10.26015 test_loss 0.19318 test_dice 9.94576\n"
     ]
    },
    {
     "name": "stderr",
     "output_type": "stream",
     "text": [
      "\t\tloss 0.13591, dice 10.28200: 100%|██████████| 30/30 [00:32<00:00,  1.09s/it]\n",
      "\t\ttest_loss 0.16998 test_dice 9.61824: 100%|██████████| 4/4 [00:04<00:00,  1.06s/it]\n"
     ]
    },
    {
     "name": "stdout",
     "output_type": "stream",
     "text": [
      "Epoch 064/100 loss 0.13591 dice 10.28200 test_loss 0.16998 test_dice 9.61824\n"
     ]
    },
    {
     "name": "stderr",
     "output_type": "stream",
     "text": [
      "\t\tloss 0.13481, dice 10.29923: 100%|██████████| 30/30 [00:32<00:00,  1.09s/it]\n",
      "\t\ttest_loss 0.15010 test_dice 10.36866: 100%|██████████| 4/4 [00:04<00:00,  1.02s/it]\n"
     ]
    },
    {
     "name": "stdout",
     "output_type": "stream",
     "text": [
      "Epoch 065/100 loss 0.13481 dice 10.29923 test_loss 0.15010 test_dice 10.36866\n"
     ]
    },
    {
     "name": "stderr",
     "output_type": "stream",
     "text": [
      "\t\tloss 0.13632, dice 10.31938: 100%|██████████| 30/30 [00:33<00:00,  1.11s/it]\n",
      "\t\ttest_loss 0.16928 test_dice 9.70519: 100%|██████████| 4/4 [00:04<00:00,  1.05s/it]\n"
     ]
    },
    {
     "name": "stdout",
     "output_type": "stream",
     "text": [
      "Epoch 066/100 loss 0.13632 dice 10.31938 test_loss 0.16928 test_dice 9.70519\n"
     ]
    },
    {
     "name": "stderr",
     "output_type": "stream",
     "text": [
      "\t\tloss 0.13515, dice 10.42190: 100%|██████████| 30/30 [00:32<00:00,  1.09s/it]\n",
      "\t\ttest_loss 0.14781 test_dice 10.18900: 100%|██████████| 4/4 [00:04<00:00,  1.01s/it]\n"
     ]
    },
    {
     "name": "stdout",
     "output_type": "stream",
     "text": [
      "Epoch 067/100 loss 0.13515 dice 10.42190 test_loss 0.14781 test_dice 10.18900\n"
     ]
    },
    {
     "name": "stderr",
     "output_type": "stream",
     "text": [
      "\t\tloss 0.12774, dice 10.44932: 100%|██████████| 30/30 [00:32<00:00,  1.07s/it]\n",
      "\t\ttest_loss 0.15062 test_dice 10.69190: 100%|██████████| 4/4 [00:04<00:00,  1.04s/it]\n"
     ]
    },
    {
     "name": "stdout",
     "output_type": "stream",
     "text": [
      "Epoch 068/100 loss 0.12774 dice 10.44932 test_loss 0.15062 test_dice 10.69190\n"
     ]
    },
    {
     "name": "stderr",
     "output_type": "stream",
     "text": [
      "\t\tloss 0.12266, dice 10.57125: 100%|██████████| 30/30 [00:32<00:00,  1.10s/it]\n",
      "\t\ttest_loss 0.15083 test_dice 10.03106: 100%|██████████| 4/4 [00:04<00:00,  1.02s/it]\n"
     ]
    },
    {
     "name": "stdout",
     "output_type": "stream",
     "text": [
      "Epoch 069/100 loss 0.12266 dice 10.57125 test_loss 0.15083 test_dice 10.03106\n"
     ]
    },
    {
     "name": "stderr",
     "output_type": "stream",
     "text": [
      "\t\tloss 0.12617, dice 10.61796: 100%|██████████| 30/30 [00:33<00:00,  1.10s/it]\n",
      "\t\ttest_loss 0.14186 test_dice 12.24473: 100%|██████████| 4/4 [00:04<00:00,  1.03s/it]\n"
     ]
    },
    {
     "name": "stdout",
     "output_type": "stream",
     "text": [
      "Epoch 070/100 loss 0.12617 dice 10.61796 test_loss 0.14186 test_dice 12.24473\n"
     ]
    },
    {
     "name": "stderr",
     "output_type": "stream",
     "text": [
      "\t\tloss 0.12502, dice 10.67233: 100%|██████████| 30/30 [00:32<00:00,  1.09s/it]\n",
      "\t\ttest_loss 0.14976 test_dice 10.42402: 100%|██████████| 4/4 [00:04<00:00,  1.04s/it]\n"
     ]
    },
    {
     "name": "stdout",
     "output_type": "stream",
     "text": [
      "Epoch 071/100 loss 0.12502 dice 10.67233 test_loss 0.14976 test_dice 10.42402\n"
     ]
    },
    {
     "name": "stderr",
     "output_type": "stream",
     "text": [
      "\t\tloss 0.12699, dice 10.71970: 100%|██████████| 30/30 [00:33<00:00,  1.11s/it]\n",
      "\t\ttest_loss 0.18220 test_dice 9.47972: 100%|██████████| 4/4 [00:04<00:00,  1.04s/it]\n"
     ]
    },
    {
     "name": "stdout",
     "output_type": "stream",
     "text": [
      "Epoch 072/100 loss 0.12699 dice 10.71970 test_loss 0.18220 test_dice 9.47972\n"
     ]
    },
    {
     "name": "stderr",
     "output_type": "stream",
     "text": [
      "\t\tloss 0.12886, dice 10.74075: 100%|██████████| 30/30 [00:32<00:00,  1.08s/it]\n",
      "\t\ttest_loss 0.14601 test_dice 9.54305: 100%|██████████| 4/4 [00:04<00:00,  1.01s/it]\n"
     ]
    },
    {
     "name": "stdout",
     "output_type": "stream",
     "text": [
      "Epoch 073/100 loss 0.12886 dice 10.74075 test_loss 0.14601 test_dice 9.54305\n"
     ]
    },
    {
     "name": "stderr",
     "output_type": "stream",
     "text": [
      "\t\tloss 0.13252, dice 10.68849: 100%|██████████| 30/30 [00:32<00:00,  1.07s/it]\n",
      "\t\ttest_loss 0.24280 test_dice 8.64246: 100%|██████████| 4/4 [00:04<00:00,  1.07s/it]\n"
     ]
    },
    {
     "name": "stdout",
     "output_type": "stream",
     "text": [
      "Epoch 074/100 loss 0.13252 dice 10.68849 test_loss 0.24280 test_dice 8.64246\n"
     ]
    },
    {
     "name": "stderr",
     "output_type": "stream",
     "text": [
      "\t\tloss 0.13172, dice 10.70982: 100%|██████████| 30/30 [00:31<00:00,  1.07s/it]\n",
      "\t\ttest_loss 0.19819 test_dice 9.90476: 100%|██████████| 4/4 [00:04<00:00,  1.01s/it] \n"
     ]
    },
    {
     "name": "stdout",
     "output_type": "stream",
     "text": [
      "Epoch 075/100 loss 0.13172 dice 10.70982 test_loss 0.19819 test_dice 9.90476\n"
     ]
    },
    {
     "name": "stderr",
     "output_type": "stream",
     "text": [
      "\t\tloss 0.12698, dice 10.78311: 100%|██████████| 30/30 [00:33<00:00,  1.10s/it]\n",
      "\t\ttest_loss 0.17030 test_dice 10.50564: 100%|██████████| 4/4 [00:04<00:00,  1.05s/it]\n"
     ]
    },
    {
     "name": "stdout",
     "output_type": "stream",
     "text": [
      "Epoch 076/100 loss 0.12698 dice 10.78311 test_loss 0.17030 test_dice 10.50564\n"
     ]
    },
    {
     "name": "stderr",
     "output_type": "stream",
     "text": [
      "\t\tloss 0.12387, dice 10.78513: 100%|██████████| 30/30 [00:32<00:00,  1.07s/it]\n",
      "\t\ttest_loss 0.16533 test_dice 9.71273: 100%|██████████| 4/4 [00:04<00:00,  1.02s/it]\n"
     ]
    },
    {
     "name": "stdout",
     "output_type": "stream",
     "text": [
      "Epoch 077/100 loss 0.12387 dice 10.78513 test_loss 0.16533 test_dice 9.71273\n"
     ]
    },
    {
     "name": "stderr",
     "output_type": "stream",
     "text": [
      "\t\tloss 0.11949, dice 10.94651: 100%|██████████| 30/30 [00:32<00:00,  1.09s/it]\n",
      "\t\ttest_loss 0.14237 test_dice 11.41304: 100%|██████████| 4/4 [00:04<00:00,  1.01s/it]\n"
     ]
    },
    {
     "name": "stdout",
     "output_type": "stream",
     "text": [
      "Epoch 078/100 loss 0.11949 dice 10.94651 test_loss 0.14237 test_dice 11.41304\n"
     ]
    },
    {
     "name": "stderr",
     "output_type": "stream",
     "text": [
      "\t\tloss 0.12569, dice 10.93767: 100%|██████████| 30/30 [00:32<00:00,  1.10s/it]\n",
      "\t\ttest_loss 0.14603 test_dice 10.51614: 100%|██████████| 4/4 [00:04<00:00,  1.03s/it]\n"
     ]
    },
    {
     "name": "stdout",
     "output_type": "stream",
     "text": [
      "Epoch 079/100 loss 0.12569 dice 10.93767 test_loss 0.14603 test_dice 10.51614\n"
     ]
    },
    {
     "name": "stderr",
     "output_type": "stream",
     "text": [
      "\t\tloss 0.11939, dice 10.97146: 100%|██████████| 30/30 [00:32<00:00,  1.07s/it]\n",
      "\t\ttest_loss 0.22285 test_dice 10.36595: 100%|██████████| 4/4 [00:04<00:00,  1.04s/it]\n"
     ]
    },
    {
     "name": "stdout",
     "output_type": "stream",
     "text": [
      "Epoch 080/100 loss 0.11939 dice 10.97146 test_loss 0.22285 test_dice 10.36595\n"
     ]
    },
    {
     "name": "stderr",
     "output_type": "stream",
     "text": [
      "\t\tloss 0.12190, dice 11.05765: 100%|██████████| 30/30 [00:32<00:00,  1.10s/it]\n",
      "\t\ttest_loss 0.21493 test_dice 10.43971: 100%|██████████| 4/4 [00:04<00:00,  1.04s/it]\n"
     ]
    },
    {
     "name": "stdout",
     "output_type": "stream",
     "text": [
      "Epoch 081/100 loss 0.12190 dice 11.05765 test_loss 0.21493 test_dice 10.43971\n"
     ]
    },
    {
     "name": "stderr",
     "output_type": "stream",
     "text": [
      "\t\tloss 0.12183, dice 11.05907: 100%|██████████| 30/30 [00:33<00:00,  1.12s/it]\n",
      "\t\ttest_loss 0.15862 test_dice 13.06900: 100%|██████████| 4/4 [00:04<00:00,  1.02s/it]\n"
     ]
    },
    {
     "name": "stdout",
     "output_type": "stream",
     "text": [
      "Epoch 082/100 loss 0.12183 dice 11.05907 test_loss 0.15862 test_dice 13.06900\n"
     ]
    },
    {
     "name": "stderr",
     "output_type": "stream",
     "text": [
      "\t\tloss 0.11729, dice 11.15578: 100%|██████████| 30/30 [00:32<00:00,  1.09s/it]\n",
      "\t\ttest_loss 0.17397 test_dice 11.34976: 100%|██████████| 4/4 [00:04<00:00,  1.03s/it]\n"
     ]
    },
    {
     "name": "stdout",
     "output_type": "stream",
     "text": [
      "Epoch 083/100 loss 0.11729 dice 11.15578 test_loss 0.17397 test_dice 11.34976\n"
     ]
    },
    {
     "name": "stderr",
     "output_type": "stream",
     "text": [
      "\t\tloss 0.11986, dice 11.22708: 100%|██████████| 30/30 [00:32<00:00,  1.09s/it]\n",
      "\t\ttest_loss 0.15128 test_dice 10.69050: 100%|██████████| 4/4 [00:04<00:00,  1.03s/it]\n"
     ]
    },
    {
     "name": "stdout",
     "output_type": "stream",
     "text": [
      "Epoch 084/100 loss 0.11986 dice 11.22708 test_loss 0.15128 test_dice 10.69050\n"
     ]
    },
    {
     "name": "stderr",
     "output_type": "stream",
     "text": [
      "\t\tloss 0.11504, dice 11.31860: 100%|██████████| 30/30 [00:32<00:00,  1.09s/it]\n",
      "\t\ttest_loss 0.13734 test_dice 11.54841: 100%|██████████| 4/4 [00:04<00:00,  1.06s/it]\n"
     ]
    },
    {
     "name": "stdout",
     "output_type": "stream",
     "text": [
      "Epoch 085/100 loss 0.11504 dice 11.31860 test_loss 0.13734 test_dice 11.54841\n"
     ]
    },
    {
     "name": "stderr",
     "output_type": "stream",
     "text": [
      "\t\tloss 0.11270, dice 11.43489: 100%|██████████| 30/30 [00:33<00:00,  1.10s/it]\n",
      "\t\ttest_loss 0.14202 test_dice 10.75376: 100%|██████████| 4/4 [00:04<00:00,  1.06s/it]\n"
     ]
    },
    {
     "name": "stdout",
     "output_type": "stream",
     "text": [
      "Epoch 086/100 loss 0.11270 dice 11.43489 test_loss 0.14202 test_dice 10.75376\n"
     ]
    },
    {
     "name": "stderr",
     "output_type": "stream",
     "text": [
      "\t\tloss 0.11357, dice 11.52924: 100%|██████████| 30/30 [00:32<00:00,  1.07s/it]\n",
      "\t\ttest_loss 0.19557 test_dice 10.10095: 100%|██████████| 4/4 [00:04<00:00,  1.01s/it]\n"
     ]
    },
    {
     "name": "stdout",
     "output_type": "stream",
     "text": [
      "Epoch 087/100 loss 0.11357 dice 11.52924 test_loss 0.19557 test_dice 10.10095\n"
     ]
    },
    {
     "name": "stderr",
     "output_type": "stream",
     "text": [
      "\t\tloss 0.11716, dice 11.52444: 100%|██████████| 30/30 [00:31<00:00,  1.07s/it]\n",
      "\t\ttest_loss 0.14912 test_dice 10.56373: 100%|██████████| 4/4 [00:03<00:00,  1.00it/s]\n"
     ]
    },
    {
     "name": "stdout",
     "output_type": "stream",
     "text": [
      "Epoch 088/100 loss 0.11716 dice 11.52444 test_loss 0.14912 test_dice 10.56373\n"
     ]
    },
    {
     "name": "stderr",
     "output_type": "stream",
     "text": [
      "\t\tloss 0.11043, dice 11.56580: 100%|██████████| 30/30 [00:31<00:00,  1.06s/it]\n",
      "\t\ttest_loss 0.15173 test_dice 11.34655: 100%|██████████| 4/4 [00:04<00:00,  1.02s/it]\n"
     ]
    },
    {
     "name": "stdout",
     "output_type": "stream",
     "text": [
      "Epoch 089/100 loss 0.11043 dice 11.56580 test_loss 0.15173 test_dice 11.34655\n"
     ]
    },
    {
     "name": "stderr",
     "output_type": "stream",
     "text": [
      "\t\tloss 0.11213, dice 11.62767: 100%|██████████| 30/30 [00:32<00:00,  1.07s/it]\n",
      "\t\ttest_loss 0.13237 test_dice 10.96491: 100%|██████████| 4/4 [00:03<00:00,  1.00it/s]\n"
     ]
    },
    {
     "name": "stdout",
     "output_type": "stream",
     "text": [
      "Epoch 090/100 loss 0.11213 dice 11.62767 test_loss 0.13237 test_dice 10.96491\n"
     ]
    },
    {
     "name": "stderr",
     "output_type": "stream",
     "text": [
      "\t\tloss 0.10823, dice 11.73619: 100%|██████████| 30/30 [00:31<00:00,  1.06s/it]\n",
      "\t\ttest_loss 0.14489 test_dice 10.45079: 100%|██████████| 4/4 [00:04<00:00,  1.01s/it]\n"
     ]
    },
    {
     "name": "stdout",
     "output_type": "stream",
     "text": [
      "Epoch 091/100 loss 0.10823 dice 11.73619 test_loss 0.14489 test_dice 10.45079\n"
     ]
    },
    {
     "name": "stderr",
     "output_type": "stream",
     "text": [
      "\t\tloss 0.11555, dice 11.74671: 100%|██████████| 30/30 [00:33<00:00,  1.10s/it]\n",
      "\t\ttest_loss 0.24182 test_dice 8.63723: 100%|██████████| 4/4 [00:04<00:00,  1.08s/it]\n"
     ]
    },
    {
     "name": "stdout",
     "output_type": "stream",
     "text": [
      "Epoch 092/100 loss 0.11555 dice 11.74671 test_loss 0.24182 test_dice 8.63723\n"
     ]
    },
    {
     "name": "stderr",
     "output_type": "stream",
     "text": [
      "\t\tloss 0.11485, dice 11.71961: 100%|██████████| 30/30 [00:32<00:00,  1.10s/it]\n",
      "\t\ttest_loss 0.15616 test_dice 12.08627: 100%|██████████| 4/4 [00:04<00:00,  1.06s/it]\n"
     ]
    },
    {
     "name": "stdout",
     "output_type": "stream",
     "text": [
      "Epoch 093/100 loss 0.11485 dice 11.71961 test_loss 0.15616 test_dice 12.08627\n"
     ]
    },
    {
     "name": "stderr",
     "output_type": "stream",
     "text": [
      "\t\tloss 0.11045, dice 11.81385: 100%|██████████| 30/30 [00:32<00:00,  1.08s/it]\n",
      "\t\ttest_loss 0.15203 test_dice 10.92801: 100%|██████████| 4/4 [00:04<00:00,  1.05s/it]\n"
     ]
    },
    {
     "name": "stdout",
     "output_type": "stream",
     "text": [
      "Epoch 094/100 loss 0.11045 dice 11.81385 test_loss 0.15203 test_dice 10.92801\n"
     ]
    },
    {
     "name": "stderr",
     "output_type": "stream",
     "text": [
      "\t\tloss 0.10749, dice 11.89734: 100%|██████████| 30/30 [00:32<00:00,  1.09s/it]\n",
      "\t\ttest_loss 0.15873 test_dice 13.53787: 100%|██████████| 4/4 [00:04<00:00,  1.04s/it]\n"
     ]
    },
    {
     "name": "stdout",
     "output_type": "stream",
     "text": [
      "Epoch 095/100 loss 0.10749 dice 11.89734 test_loss 0.15873 test_dice 13.53787\n"
     ]
    },
    {
     "name": "stderr",
     "output_type": "stream",
     "text": [
      "\t\tloss 0.10615, dice 11.98815: 100%|██████████| 30/30 [00:33<00:00,  1.11s/it]\n",
      "\t\ttest_loss 0.13854 test_dice 10.67624: 100%|██████████| 4/4 [00:04<00:00,  1.07s/it]\n"
     ]
    },
    {
     "name": "stdout",
     "output_type": "stream",
     "text": [
      "Epoch 096/100 loss 0.10615 dice 11.98815 test_loss 0.13854 test_dice 10.67624\n"
     ]
    },
    {
     "name": "stderr",
     "output_type": "stream",
     "text": [
      "\t\tloss 0.10448, dice 12.03832: 100%|██████████| 30/30 [00:31<00:00,  1.07s/it]\n",
      "\t\ttest_loss 0.14496 test_dice 12.89001: 100%|██████████| 4/4 [00:04<00:00,  1.00s/it]\n"
     ]
    },
    {
     "name": "stdout",
     "output_type": "stream",
     "text": [
      "Epoch 097/100 loss 0.10448 dice 12.03832 test_loss 0.14496 test_dice 12.89001\n"
     ]
    },
    {
     "name": "stderr",
     "output_type": "stream",
     "text": [
      "\t\tloss 0.10707, dice 12.18804: 100%|██████████| 30/30 [00:32<00:00,  1.09s/it]\n",
      "\t\ttest_loss 0.14241 test_dice 12.01337: 100%|██████████| 4/4 [00:04<00:00,  1.01s/it]\n"
     ]
    },
    {
     "name": "stdout",
     "output_type": "stream",
     "text": [
      "Epoch 098/100 loss 0.10707 dice 12.18804 test_loss 0.14241 test_dice 12.01337\n"
     ]
    },
    {
     "name": "stderr",
     "output_type": "stream",
     "text": [
      "\t\tloss 0.10465, dice 12.25673: 100%|██████████| 30/30 [00:32<00:00,  1.09s/it]\n",
      "\t\ttest_loss 0.16558 test_dice 13.21640: 100%|██████████| 4/4 [00:04<00:00,  1.02s/it]\n"
     ]
    },
    {
     "name": "stdout",
     "output_type": "stream",
     "text": [
      "Epoch 099/100 loss 0.10465 dice 12.25673 test_loss 0.16558 test_dice 13.21640\n"
     ]
    },
    {
     "name": "stderr",
     "output_type": "stream",
     "text": [
      "\t\tloss 0.10713, dice 12.25106: 100%|██████████| 30/30 [00:32<00:00,  1.09s/it]\n",
      "\t\ttest_loss 0.14435 test_dice 11.85797: 100%|██████████| 4/4 [00:04<00:00,  1.01s/it]"
     ]
    },
    {
     "name": "stdout",
     "output_type": "stream",
     "text": [
      "Epoch 100/100 loss 0.10713 dice 12.25106 test_loss 0.14435 test_dice 11.85797\n"
     ]
    },
    {
     "name": "stderr",
     "output_type": "stream",
     "text": [
      "\n"
     ]
    }
   ],
   "source": [
    "model = UNet()\n",
    "EPOCHS = 100\n",
    "LR = 3e-4\n",
    "hist = fit(model, dataloader, epochs=EPOCHS, lr=LR, parallel=True)"
   ]
  },
  {
   "cell_type": "code",
   "execution_count": 13,
   "metadata": {},
   "outputs": [
    {
     "name": "stdout",
     "output_type": "stream",
     "text": [
      "100\n"
     ]
    },
    {
     "data": {
      "text/html": [
       "<div>\n",
       "<style scoped>\n",
       "    .dataframe tbody tr th:only-of-type {\n",
       "        vertical-align: middle;\n",
       "    }\n",
       "\n",
       "    .dataframe tbody tr th {\n",
       "        vertical-align: top;\n",
       "    }\n",
       "\n",
       "    .dataframe thead th {\n",
       "        text-align: right;\n",
       "    }\n",
       "</style>\n",
       "<table border=\"1\" class=\"dataframe\">\n",
       "  <thead>\n",
       "    <tr style=\"text-align: right;\">\n",
       "      <th></th>\n",
       "      <th>loss</th>\n",
       "      <th>dice</th>\n",
       "      <th>test_loss</th>\n",
       "      <th>test_dice</th>\n",
       "    </tr>\n",
       "  </thead>\n",
       "  <tbody>\n",
       "    <tr>\n",
       "      <th>0</th>\n",
       "      <td>0.606345</td>\n",
       "      <td>0.293375</td>\n",
       "      <td>0.507183</td>\n",
       "      <td>0.897859</td>\n",
       "    </tr>\n",
       "    <tr>\n",
       "      <th>1</th>\n",
       "      <td>0.437856</td>\n",
       "      <td>1.502866</td>\n",
       "      <td>0.392233</td>\n",
       "      <td>1.873363</td>\n",
       "    </tr>\n",
       "    <tr>\n",
       "      <th>2</th>\n",
       "      <td>0.339032</td>\n",
       "      <td>2.639488</td>\n",
       "      <td>0.291355</td>\n",
       "      <td>3.608788</td>\n",
       "    </tr>\n",
       "    <tr>\n",
       "      <th>3</th>\n",
       "      <td>0.280697</td>\n",
       "      <td>3.673406</td>\n",
       "      <td>0.280496</td>\n",
       "      <td>3.855051</td>\n",
       "    </tr>\n",
       "    <tr>\n",
       "      <th>4</th>\n",
       "      <td>0.254591</td>\n",
       "      <td>4.412244</td>\n",
       "      <td>0.251079</td>\n",
       "      <td>4.632230</td>\n",
       "    </tr>\n",
       "  </tbody>\n",
       "</table>\n",
       "</div>"
      ],
      "text/plain": [
       "       loss      dice  test_loss  test_dice\n",
       "0  0.606345  0.293375   0.507183   0.897859\n",
       "1  0.437856  1.502866   0.392233   1.873363\n",
       "2  0.339032  2.639488   0.291355   3.608788\n",
       "3  0.280697  3.673406   0.280496   3.855051\n",
       "4  0.254591  4.412244   0.251079   4.632230"
      ]
     },
     "execution_count": 13,
     "metadata": {},
     "output_type": "execute_result"
    }
   ],
   "source": [
    "hist_df = pd.DataFrame(hist)\n",
    "print(len(hist_df))\n",
    "hist_df.head()"
   ]
  },
  {
   "cell_type": "code",
   "execution_count": 14,
   "metadata": {},
   "outputs": [
    {
     "data": {
      "image/png": "[encoded data removed]",
      "text/plain": [
       "<Figure size 432x288 with 1 Axes>"
      ]
     },
     "metadata": {
      "needs_background": "light"
     },
     "output_type": "display_data"
    }
   ],
   "source": [
    "# plot the training and testing loss\n",
    "plt.plot(hist['loss'], label='train_loss')\n",
    "plt.plot(hist['test_loss'], label='test_loss')\n",
    "plt.legend()\n",
    "plt.grid()\n",
    "plt.show()"
   ]
  },
  {
   "cell_type": "code",
   "execution_count": 15,
   "metadata": {},
   "outputs": [
    {
     "data": {
      "image/png": "[encoded data removed]",
      "text/plain": [
       "<Figure size 432x288 with 1 Axes>"
      ]
     },
     "metadata": {
      "needs_background": "light"
     },
     "output_type": "display_data"
    }
   ],
   "source": [
    "# plot the training and testing dice\n",
    "plt.plot(hist['dice'], label='train_dice')\n",
    "plt.plot(hist['test_dice'], label='test_dice')\n",
    "plt.legend()\n",
    "plt.grid()\n",
    "plt.show()"
   ]
  },
  {
   "cell_type": "code",
   "execution_count": 16,
   "metadata": {},
   "outputs": [
    {
     "ename": "NameError",
     "evalue": "name 'one_sample_img' is not defined",
     "output_type": "error",
     "traceback": [
      "\u001b[0;31m---------------------------------------------------------------------------\u001b[0m",
      "\u001b[0;31mNameError\u001b[0m                                 Traceback (most recent call last)",
      "\u001b[1;32m/home/wallabot/Documentos/kaggle/hubmap/notebooks/02 custom unet DataParallel.ipynb Celda 19\u001b[0m in \u001b[0;36m<cell line: 2>\u001b[0;34m()\u001b[0m\n\u001b[1;32m      <a href='vscode-notebook-cell:/home/wallabot/Documentos/kaggle/hubmap/notebooks/02%20custom%20unet%20DataParallel.ipynb#ch0000042?line=0'>1</a>\u001b[0m model\u001b[39m.\u001b[39meval()\n\u001b[1;32m      <a href='vscode-notebook-cell:/home/wallabot/Documentos/kaggle/hubmap/notebooks/02%20custom%20unet%20DataParallel.ipynb#ch0000042?line=1'>2</a>\u001b[0m \u001b[39mwith\u001b[39;00m torch\u001b[39m.\u001b[39mno_grad():\n\u001b[0;32m----> <a href='vscode-notebook-cell:/home/wallabot/Documentos/kaggle/hubmap/notebooks/02%20custom%20unet%20DataParallel.ipynb#ch0000042?line=2'>3</a>\u001b[0m     output \u001b[39m=\u001b[39m model(one_sample_img\u001b[39m.\u001b[39munsqueeze(\u001b[39m0\u001b[39m)\u001b[39m.\u001b[39mto(device))[\u001b[39m0\u001b[39m]\n\u001b[1;32m      <a href='vscode-notebook-cell:/home/wallabot/Documentos/kaggle/hubmap/notebooks/02%20custom%20unet%20DataParallel.ipynb#ch0000042?line=3'>4</a>\u001b[0m     pred_mask \u001b[39m=\u001b[39m torch\u001b[39m.\u001b[39margmax(output, axis\u001b[39m=\u001b[39m\u001b[39m0\u001b[39m)\n\u001b[1;32m      <a href='vscode-notebook-cell:/home/wallabot/Documentos/kaggle/hubmap/notebooks/02%20custom%20unet%20DataParallel.ipynb#ch0000042?line=5'>6</a>\u001b[0m fig, (ax1, ax2, ax3) \u001b[39m=\u001b[39m plt\u001b[39m.\u001b[39msubplots(\u001b[39m1\u001b[39m, \u001b[39m3\u001b[39m, figsize\u001b[39m=\u001b[39m(\u001b[39m30\u001b[39m,\u001b[39m10\u001b[39m))\n",
      "\u001b[0;31mNameError\u001b[0m: name 'one_sample_img' is not defined"
     ]
    }
   ],
   "source": [
    "sample_val_img, sample_val_mask = next(iter(dataloader['test']))\n",
    "one_sample_img = sample_val_img[0]\n",
    "one_sample_mask = sample_val_mask[0]\n",
    "model.eval()\n",
    "with torch.no_grad():\n",
    "    output = model(one_sample_img.unsqueeze(0).to(device))[0]\n",
    "    pred_mask = torch.argmax(output, axis=0)\n",
    "    \n",
    "fig, (ax1, ax2, ax3) = plt.subplots(1, 3, figsize=(30,10))\n",
    "ax1.imshow(one_sample_img.permute(1, 2, 0).cpu().numpy())\n",
    "ax1.set_title('Image')\n",
    "ax2.imshow(torch.argmax(one_sample_mask, axis=0).cpu().numpy())\n",
    "ax2.set_title('mask')\n",
    "ax3.imshow(pred_mask.squeeze().cpu().numpy())\n",
    "ax3.set_title('pred_mask')\n",
    "plt.show()\n",
    "print(f\"output.shape = {output.shape}, pred_mask.shape = {pred_mask.shape}\")"
   ]
  }
 ],
 "metadata": {
  "kernelspec": {
   "display_name": "Python 3.8.13 ('HuBMAP_HPA')",
   "language": "python",
   "name": "python3"
  },
  "language_info": {
   "codemirror_mode": {
    "name": "ipython",
    "version": 3
   },
   "file_extension": ".py",
   "mimetype": "text/x-python",
   "name": "python",
   "nbconvert_exporter": "python",
   "pygments_lexer": "ipython3",
   "version": "3.8.13"
  },
  "orig_nbformat": 4,
  "vscode": {
   "interpreter": {
    "hash": "5908be7129383694b4ff55a3fd43a54e78208ed305dac25c0e93bbd971e0eb3e"
   }
  }
 },
 "nbformat": 4,
 "nbformat_minor": 2
}
