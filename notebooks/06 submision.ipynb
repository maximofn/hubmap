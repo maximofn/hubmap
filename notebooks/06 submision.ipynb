{
 "cells": [
  {
   "cell_type": "code",
   "execution_count": 1,
   "metadata": {},
   "outputs": [],
   "source": [
    "import torch\n",
    "from pathlib import Path\n",
    "import pandas as pd\n",
    "import numpy as np\n",
    "import cv2"
   ]
  },
  {
   "cell_type": "code",
   "execution_count": 2,
   "metadata": {},
   "outputs": [],
   "source": [
    "model_name = \"02_unet_custom_DataParallel.zip\"\n",
    "GPU = True\n",
    "if GPU:\n",
    "    device = torch.device(\"cuda\" if torch.cuda.is_available() else \"cpu\")"
   ]
  },
  {
   "cell_type": "code",
   "execution_count": 3,
   "metadata": {},
   "outputs": [],
   "source": [
    "path = Path(\"../\")\n",
    "data_path = path / \"data\"\n",
    "test_images_path = data_path / \"test_images\""
   ]
  },
  {
   "cell_type": "code",
   "execution_count": 4,
   "metadata": {},
   "outputs": [
    {
     "data": {
      "text/html": [
       "<div>\n",
       "<style scoped>\n",
       "    .dataframe tbody tr th:only-of-type {\n",
       "        vertical-align: middle;\n",
       "    }\n",
       "\n",
       "    .dataframe tbody tr th {\n",
       "        vertical-align: top;\n",
       "    }\n",
       "\n",
       "    .dataframe thead th {\n",
       "        text-align: right;\n",
       "    }\n",
       "</style>\n",
       "<table border=\"1\" class=\"dataframe\">\n",
       "  <thead>\n",
       "    <tr style=\"text-align: right;\">\n",
       "      <th></th>\n",
       "      <th>id</th>\n",
       "      <th>organ</th>\n",
       "      <th>data_source</th>\n",
       "      <th>img_height</th>\n",
       "      <th>img_width</th>\n",
       "      <th>pixel_size</th>\n",
       "      <th>tissue_thickness</th>\n",
       "      <th>path</th>\n",
       "    </tr>\n",
       "  </thead>\n",
       "  <tbody>\n",
       "    <tr>\n",
       "      <th>0</th>\n",
       "      <td>10078</td>\n",
       "      <td>spleen</td>\n",
       "      <td>Hubmap</td>\n",
       "      <td>2023</td>\n",
       "      <td>2023</td>\n",
       "      <td>0.4945</td>\n",
       "      <td>4</td>\n",
       "      <td>../data/test_images/10078.tiff</td>\n",
       "    </tr>\n",
       "  </tbody>\n",
       "</table>\n",
       "</div>"
      ],
      "text/plain": [
       "      id   organ data_source  img_height  img_width  pixel_size  \\\n",
       "0  10078  spleen      Hubmap        2023       2023      0.4945   \n",
       "\n",
       "   tissue_thickness                            path  \n",
       "0                 4  ../data/test_images/10078.tiff  "
      ]
     },
     "execution_count": 4,
     "metadata": {},
     "output_type": "execute_result"
    }
   ],
   "source": [
    "test_df = pd.read_csv(data_path / \"test.csv\")\n",
    "test_df['path'] = test_df.id.apply(lambda x: f'{str(test_images_path)}/{x}.tiff')\n",
    "test_df.head()"
   ]
  },
  {
   "cell_type": "code",
   "execution_count": 5,
   "metadata": {},
   "outputs": [],
   "source": [
    "def mask2rle(mask):\n",
    "    '''\n",
    "    mask: numpy array, 1 - mask, 0 - background\n",
    "    Returns run length as string formated\n",
    "    '''\n",
    "    pixels = mask.T.flatten()\n",
    "    pixels = np.concatenate([[0], pixels, [0]])\n",
    "    runs = np.where(pixels[1:] != pixels[:-1])[0] + 1\n",
    "    runs[1::2] -= runs[::2]\n",
    "    return ' '.join(str(x) for x in runs)\n",
    "\n",
    "def calc_mask(tensor, model):\n",
    "    '''\n",
    "    tensor: tensor of shape (1, 3, H, W)\n",
    "    Returns mask of shape (H, W)\n",
    "    '''\n",
    "    if len(tensor.shape) == 3:\n",
    "        tensor = tensor.unsqueeze(0)\n",
    "    model.eval()\n",
    "    with torch.no_grad():\n",
    "        if GPU:\n",
    "            tensor = tensor.to(device)\n",
    "            print(f\"tensor device: {tensor.device}\")\n",
    "        output = model(tensor).squeeze(0)\n",
    "        pred_mask = torch.argmax(output, axis=0)\n",
    "    return pred_mask.detach().cpu().numpy()\n",
    "\n",
    "def calc_mask_from_image_path(img_path, model):\n",
    "    '''\n",
    "    img_path: path to image\n",
    "    model: model to use for inference\n",
    "    Returns mask of shape (H, W)\n",
    "    '''\n",
    "    img = cv2.imread(img_path, cv2.COLOR_BGR2RGB) / 255.0\n",
    "    img_tensor = torch.from_numpy(img.astype(np.float32)).float().permute(2, 0, 1).unsqueeze(0)\n",
    "    return calc_mask(img_tensor, model)\n",
    "\n",
    "def calc_rle_from_image_path(img_path, model):\n",
    "    '''\n",
    "    img_path: path to image\n",
    "    model: model to use for inference\n",
    "    Returns rle string\n",
    "    '''\n",
    "    mask = calc_mask_from_image_path(img_path, model)\n",
    "    return mask2rle(mask)"
   ]
  },
  {
   "cell_type": "code",
   "execution_count": 6,
   "metadata": {},
   "outputs": [
    {
     "name": "stdout",
     "output_type": "stream",
     "text": [
      "Using GPU\n"
     ]
    }
   ],
   "source": [
    "model_path = path / \"models\" / model_name\n",
    "model = torch.jit.load(model_path)\n",
    "if GPU:\n",
    "    model = model.to(device)\n",
    "    print(\"Using GPU\")"
   ]
  },
  {
   "cell_type": "code",
   "execution_count": 7,
   "metadata": {},
   "outputs": [
    {
     "name": "stdout",
     "output_type": "stream",
     "text": [
      "tensor device: cuda:0\n"
     ]
    },
    {
     "data": {
      "text/html": [
       "<div>\n",
       "<style scoped>\n",
       "    .dataframe tbody tr th:only-of-type {\n",
       "        vertical-align: middle;\n",
       "    }\n",
       "\n",
       "    .dataframe tbody tr th {\n",
       "        vertical-align: top;\n",
       "    }\n",
       "\n",
       "    .dataframe thead th {\n",
       "        text-align: right;\n",
       "    }\n",
       "</style>\n",
       "<table border=\"1\" class=\"dataframe\">\n",
       "  <thead>\n",
       "    <tr style=\"text-align: right;\">\n",
       "      <th></th>\n",
       "      <th>id</th>\n",
       "      <th>organ</th>\n",
       "      <th>data_source</th>\n",
       "      <th>img_height</th>\n",
       "      <th>img_width</th>\n",
       "      <th>pixel_size</th>\n",
       "      <th>tissue_thickness</th>\n",
       "      <th>path</th>\n",
       "      <th>rle</th>\n",
       "    </tr>\n",
       "  </thead>\n",
       "  <tbody>\n",
       "    <tr>\n",
       "      <th>0</th>\n",
       "      <td>10078</td>\n",
       "      <td>spleen</td>\n",
       "      <td>Hubmap</td>\n",
       "      <td>2023</td>\n",
       "      <td>2023</td>\n",
       "      <td>0.4945</td>\n",
       "      <td>4</td>\n",
       "      <td>../data/test_images/10078.tiff</td>\n",
       "      <td>8305 4 9672 3 10321 13 10765 10 10983 6 11692 ...</td>\n",
       "    </tr>\n",
       "  </tbody>\n",
       "</table>\n",
       "</div>"
      ],
      "text/plain": [
       "      id   organ data_source  img_height  img_width  pixel_size  \\\n",
       "0  10078  spleen      Hubmap        2023       2023      0.4945   \n",
       "\n",
       "   tissue_thickness                            path  \\\n",
       "0                 4  ../data/test_images/10078.tiff   \n",
       "\n",
       "                                                 rle  \n",
       "0  8305 4 9672 3 10321 13 10765 10 10983 6 11692 ...  "
      ]
     },
     "execution_count": 7,
     "metadata": {},
     "output_type": "execute_result"
    }
   ],
   "source": [
    "test_df['rle'] = test_df.apply(lambda x: calc_rle_from_image_path(x.path, model), axis=1)\n",
    "test_df.head()"
   ]
  },
  {
   "cell_type": "code",
   "execution_count": 8,
   "metadata": {},
   "outputs": [
    {
     "data": {
      "text/html": [
       "<div>\n",
       "<style scoped>\n",
       "    .dataframe tbody tr th:only-of-type {\n",
       "        vertical-align: middle;\n",
       "    }\n",
       "\n",
       "    .dataframe tbody tr th {\n",
       "        vertical-align: top;\n",
       "    }\n",
       "\n",
       "    .dataframe thead th {\n",
       "        text-align: right;\n",
       "    }\n",
       "</style>\n",
       "<table border=\"1\" class=\"dataframe\">\n",
       "  <thead>\n",
       "    <tr style=\"text-align: right;\">\n",
       "      <th></th>\n",
       "      <th>id</th>\n",
       "      <th>rle</th>\n",
       "    </tr>\n",
       "  </thead>\n",
       "  <tbody>\n",
       "    <tr>\n",
       "      <th>0</th>\n",
       "      <td>10078</td>\n",
       "      <td>8305 4 9672 3 10321 13 10765 10 10983 6 11692 ...</td>\n",
       "    </tr>\n",
       "  </tbody>\n",
       "</table>\n",
       "</div>"
      ],
      "text/plain": [
       "      id                                                rle\n",
       "0  10078  8305 4 9672 3 10321 13 10765 10 10983 6 11692 ..."
      ]
     },
     "execution_count": 8,
     "metadata": {},
     "output_type": "execute_result"
    }
   ],
   "source": [
    "submision_df = test_df[['id', 'rle']]\n",
    "submision_df.head()"
   ]
  },
  {
   "cell_type": "code",
   "execution_count": 9,
   "metadata": {},
   "outputs": [],
   "source": [
    "submision_df.to_csv(data_path / \"submision.csv\", index=False)"
   ]
  }
 ],
 "metadata": {
  "kernelspec": {
   "display_name": "Python 3.8.13 ('HuBMAP_HPA')",
   "language": "python",
   "name": "python3"
  },
  "language_info": {
   "codemirror_mode": {
    "name": "ipython",
    "version": 3
   },
   "file_extension": ".py",
   "mimetype": "text/x-python",
   "name": "python",
   "nbconvert_exporter": "python",
   "pygments_lexer": "ipython3",
   "version": "3.8.13"
  },
  "orig_nbformat": 4,
  "vscode": {
   "interpreter": {
    "hash": "5908be7129383694b4ff55a3fd43a54e78208ed305dac25c0e93bbd971e0eb3e"
   }
  }
 },
 "nbformat": 4,
 "nbformat_minor": 2
}
