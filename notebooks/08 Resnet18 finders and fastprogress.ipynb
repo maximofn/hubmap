{
 "cells": [
  {
   "cell_type": "code",
   "execution_count": 1,
   "metadata": {},
   "outputs": [],
   "source": [
    "import torch\n",
    "import torch.nn.functional as F\n",
    "import torchvision\n",
    "from pathlib import Path\n",
    "import os\n",
    "import pandas as pd\n",
    "import numpy as np\n",
    "import matplotlib.pyplot as plt\n",
    "from random import randint\n",
    "import tifffile as tiff\n",
    "import cv2\n",
    "import subprocess as sp\n",
    "from tqdm import tqdm\n",
    "from sklearn.model_selection import train_test_split"
   ]
  },
  {
   "cell_type": "code",
   "execution_count": 2,
   "metadata": {},
   "outputs": [],
   "source": [
    "SEARCH_BS = False\n",
    "SEARCH_LR = False"
   ]
  },
  {
   "cell_type": "code",
   "execution_count": 3,
   "metadata": {},
   "outputs": [],
   "source": [
    "division = 300\n",
    "resize_img = 50#500\n",
    "BS_train = 16\n",
    "if SEARCH_LR:\n",
    "    BS_train = int(BS_train / 2)\n",
    "BS_val = BS_train * 4\n",
    "EPOCHS = 400\n",
    "LR = 1e-2\n",
    "NOTEBOOK_NAME = '08_Resnet18_finders_and_fastprogress'\n",
    "VALID_SPLIT = 0.2"
   ]
  },
  {
   "cell_type": "code",
   "execution_count": 4,
   "metadata": {},
   "outputs": [
    {
     "data": {
      "text/plain": [
       "['train_images',\n",
       " 'test_images',\n",
       " 'train_annotations',\n",
       " 'train.csv',\n",
       " 'sample_submission.csv',\n",
       " 'test.csv',\n",
       " 'submission.csv']"
      ]
     },
     "execution_count": 4,
     "metadata": {},
     "output_type": "execute_result"
    }
   ],
   "source": [
    "path = Path(\"../\")\n",
    "data_path = path / \"data\"\n",
    "os.listdir(data_path)"
   ]
  },
  {
   "cell_type": "code",
   "execution_count": 5,
   "metadata": {},
   "outputs": [],
   "source": [
    "train_images_path = data_path / \"train_images\""
   ]
  },
  {
   "cell_type": "code",
   "execution_count": 6,
   "metadata": {},
   "outputs": [
    {
     "data": {
      "text/html": [
       "<div>\n",
       "<style scoped>\n",
       "    .dataframe tbody tr th:only-of-type {\n",
       "        vertical-align: middle;\n",
       "    }\n",
       "\n",
       "    .dataframe tbody tr th {\n",
       "        vertical-align: top;\n",
       "    }\n",
       "\n",
       "    .dataframe thead th {\n",
       "        text-align: right;\n",
       "    }\n",
       "</style>\n",
       "<table border=\"1\" class=\"dataframe\">\n",
       "  <thead>\n",
       "    <tr style=\"text-align: right;\">\n",
       "      <th></th>\n",
       "      <th>id</th>\n",
       "      <th>organ</th>\n",
       "      <th>data_source</th>\n",
       "      <th>img_height</th>\n",
       "      <th>img_width</th>\n",
       "      <th>pixel_size</th>\n",
       "      <th>tissue_thickness</th>\n",
       "      <th>rle</th>\n",
       "      <th>age</th>\n",
       "      <th>sex</th>\n",
       "      <th>path</th>\n",
       "    </tr>\n",
       "  </thead>\n",
       "  <tbody>\n",
       "    <tr>\n",
       "      <th>0</th>\n",
       "      <td>10044</td>\n",
       "      <td>prostate</td>\n",
       "      <td>HPA</td>\n",
       "      <td>3000</td>\n",
       "      <td>3000</td>\n",
       "      <td>0.4</td>\n",
       "      <td>4</td>\n",
       "      <td>1459676 77 1462675 82 1465674 87 1468673 92 14...</td>\n",
       "      <td>37.0</td>\n",
       "      <td>Male</td>\n",
       "      <td>../data/train_images/10044.tiff</td>\n",
       "    </tr>\n",
       "    <tr>\n",
       "      <th>1</th>\n",
       "      <td>10274</td>\n",
       "      <td>prostate</td>\n",
       "      <td>HPA</td>\n",
       "      <td>3000</td>\n",
       "      <td>3000</td>\n",
       "      <td>0.4</td>\n",
       "      <td>4</td>\n",
       "      <td>715707 2 718705 8 721703 11 724701 18 727692 3...</td>\n",
       "      <td>76.0</td>\n",
       "      <td>Male</td>\n",
       "      <td>../data/train_images/10274.tiff</td>\n",
       "    </tr>\n",
       "    <tr>\n",
       "      <th>2</th>\n",
       "      <td>10392</td>\n",
       "      <td>spleen</td>\n",
       "      <td>HPA</td>\n",
       "      <td>3000</td>\n",
       "      <td>3000</td>\n",
       "      <td>0.4</td>\n",
       "      <td>4</td>\n",
       "      <td>1228631 20 1231629 24 1234624 40 1237623 47 12...</td>\n",
       "      <td>82.0</td>\n",
       "      <td>Male</td>\n",
       "      <td>../data/train_images/10392.tiff</td>\n",
       "    </tr>\n",
       "    <tr>\n",
       "      <th>3</th>\n",
       "      <td>10488</td>\n",
       "      <td>lung</td>\n",
       "      <td>HPA</td>\n",
       "      <td>3000</td>\n",
       "      <td>3000</td>\n",
       "      <td>0.4</td>\n",
       "      <td>4</td>\n",
       "      <td>3446519 15 3449517 17 3452514 20 3455510 24 34...</td>\n",
       "      <td>78.0</td>\n",
       "      <td>Male</td>\n",
       "      <td>../data/train_images/10488.tiff</td>\n",
       "    </tr>\n",
       "    <tr>\n",
       "      <th>4</th>\n",
       "      <td>10610</td>\n",
       "      <td>spleen</td>\n",
       "      <td>HPA</td>\n",
       "      <td>3000</td>\n",
       "      <td>3000</td>\n",
       "      <td>0.4</td>\n",
       "      <td>4</td>\n",
       "      <td>478925 68 481909 87 484893 105 487863 154 4908...</td>\n",
       "      <td>21.0</td>\n",
       "      <td>Female</td>\n",
       "      <td>../data/train_images/10610.tiff</td>\n",
       "    </tr>\n",
       "  </tbody>\n",
       "</table>\n",
       "</div>"
      ],
      "text/plain": [
       "      id     organ data_source  img_height  img_width  pixel_size  \\\n",
       "0  10044  prostate         HPA        3000       3000         0.4   \n",
       "1  10274  prostate         HPA        3000       3000         0.4   \n",
       "2  10392    spleen         HPA        3000       3000         0.4   \n",
       "3  10488      lung         HPA        3000       3000         0.4   \n",
       "4  10610    spleen         HPA        3000       3000         0.4   \n",
       "\n",
       "   tissue_thickness                                                rle   age  \\\n",
       "0                 4  1459676 77 1462675 82 1465674 87 1468673 92 14...  37.0   \n",
       "1                 4  715707 2 718705 8 721703 11 724701 18 727692 3...  76.0   \n",
       "2                 4  1228631 20 1231629 24 1234624 40 1237623 47 12...  82.0   \n",
       "3                 4  3446519 15 3449517 17 3452514 20 3455510 24 34...  78.0   \n",
       "4                 4  478925 68 481909 87 484893 105 487863 154 4908...  21.0   \n",
       "\n",
       "      sex                             path  \n",
       "0    Male  ../data/train_images/10044.tiff  \n",
       "1    Male  ../data/train_images/10274.tiff  \n",
       "2    Male  ../data/train_images/10392.tiff  \n",
       "3    Male  ../data/train_images/10488.tiff  \n",
       "4  Female  ../data/train_images/10610.tiff  "
      ]
     },
     "execution_count": 6,
     "metadata": {},
     "output_type": "execute_result"
    }
   ],
   "source": [
    "train_df = pd.read_csv(data_path / \"train.csv\")\n",
    "train_df['path'] = train_df.id.apply(lambda x: f'{str(train_images_path)}/{x}.tiff')\n",
    "train_df.head()"
   ]
  },
  {
   "cell_type": "markdown",
   "metadata": {},
   "source": [
    "## ResNet 50 UNet"
   ]
  },
  {
   "cell_type": "code",
   "execution_count": 7,
   "metadata": {},
   "outputs": [],
   "source": [
    "number_of_classes = 2 # 2 classes\n",
    "number_of_channels = 3\n",
    "\n",
    "def conv3x3_bn(ci, co):\n",
    "    return torch.nn.Sequential(\n",
    "        torch.nn.Conv2d(ci, co, 3, padding=1),\n",
    "        torch.nn.BatchNorm2d(co),\n",
    "        torch.nn.ReLU(inplace=True)\n",
    "    )\n",
    "\n",
    "def encoder_conv(ci, co):\n",
    "  return torch.nn.Sequential(\n",
    "        torch.nn.MaxPool2d(2),\n",
    "        conv3x3_bn(ci, co),\n",
    "        conv3x3_bn(co, co),\n",
    "    )\n",
    "\n",
    "class deconv(torch.nn.Module):\n",
    "    def __init__(self, ci, co):\n",
    "        super(deconv, self).__init__()\n",
    "        self.upsample = torch.nn.ConvTranspose2d(ci, co, 2, stride=2)\n",
    "        self.conv1 = conv3x3_bn(ci, co)\n",
    "        self.conv2 = conv3x3_bn(co, co)\n",
    "    \n",
    "    # recibe la salida de la capa anetrior y la salida de la etapa\n",
    "    # correspondiente del encoder\n",
    "    def forward(self, x1, x2):\n",
    "        x1 = self.upsample(x1)\n",
    "        diffX = x2.size()[2] - x1.size()[2]\n",
    "        diffY = x2.size()[3] - x1.size()[3]\n",
    "        x1 = F.pad(x1, (diffX, 0, diffY, 0))\n",
    "        # concatenamos los tensores\n",
    "        x = torch.cat([x2, x1], dim=1)\n",
    "        x = self.conv1(x)\n",
    "        x = self.conv2(x)\n",
    "        return x\n",
    "\n",
    "class out_conv(torch.nn.Module):\n",
    "    def __init__(self, ci, co, coo):\n",
    "        super(out_conv, self).__init__()\n",
    "        self.upsample = torch.nn.ConvTranspose2d(ci, co, 2, stride=2)\n",
    "        self.conv = conv3x3_bn(ci, co)\n",
    "        self.final = torch.nn.Conv2d(co, coo, 1)\n",
    "\n",
    "    def forward(self, x1, x2):\n",
    "        x1 = self.upsample(x1)\n",
    "        diffX = x2.size()[2] - x1.size()[2]\n",
    "        diffY = x2.size()[3] - x1.size()[3]\n",
    "        x1 = F.pad(x1, (diffX, 0, diffY, 0))\n",
    "        x = self.conv(x1)\n",
    "        x = self.final(x)\n",
    "        return x\n",
    "\n",
    "class UNetResnet(torch.nn.Module):\n",
    "    def __init__(self, n_classes=number_of_classes, in_ch=number_of_channels):\n",
    "        super().__init__()\n",
    "\n",
    "        self.encoder = torchvision.models.resnet18(weights=torchvision.models.ResNet18_Weights.DEFAULT)           \n",
    "        if in_ch != 3:\n",
    "          self.encoder.conv1 = torch.nn.Conv2d(in_ch, 64, kernel_size=7, stride=2, padding=3, bias=False)\n",
    "\n",
    "        self.deconv1 = deconv(512,256)\n",
    "        self.deconv2 = deconv(256,128)\n",
    "        self.deconv3 = deconv(128,64)\n",
    "        self.out = out_conv(64, 64, n_classes)\n",
    "\n",
    "    def forward(self, x):\n",
    "        # x_in = torch.tensor(x.clone().detach())\n",
    "        x_in = x.clone().detach()\n",
    "        x = self.encoder.relu(self.encoder.bn1(self.encoder.conv1(x)))\n",
    "        x1 = self.encoder.layer1(x)\n",
    "        x2 = self.encoder.layer2(x1)\n",
    "        x3 = self.encoder.layer3(x2)\n",
    "        x = self.encoder.layer4(x3)\n",
    "        x = self.deconv1(x, x3)\n",
    "        x = self.deconv2(x, x2)\n",
    "        x = self.deconv3(x, x1)\n",
    "        x = self.out(x, x_in)\n",
    "        return x"
   ]
  },
  {
   "cell_type": "markdown",
   "metadata": {},
   "source": [
    "## Dice coefficient loss"
   ]
  },
  {
   "cell_type": "code",
   "execution_count": 8,
   "metadata": {},
   "outputs": [],
   "source": [
    "def dice_coeff(pred, target):\n",
    "    smooth = 1.\n",
    "    num = pred.size(1)\n",
    "    m1 = pred.view(num, -1).float()  # Flatten\n",
    "    m2 = target.view(num, -1).float()  # Flatten\n",
    "    intersection = (m1 * m2).sum().float()\n",
    "    dice = (2. * intersection + smooth) / (m1.sum() + m2.sum() + smooth)\n",
    "    dice = dice.item()\n",
    "\n",
    "    return dice"
   ]
  },
  {
   "cell_type": "markdown",
   "metadata": {},
   "source": [
    "## Dataset and Dataloader"
   ]
  },
  {
   "cell_type": "code",
   "execution_count": 9,
   "metadata": {},
   "outputs": [],
   "source": [
    "def rle2mask(mask_rle, shape):\n",
    "    '''\n",
    "    mask_rle: run-length as string formated (start length)\n",
    "    shape: (width,height) of array to return \n",
    "    Returns numpy array, 1 - mask, 0 - background\n",
    "\n",
    "    '''\n",
    "    s = mask_rle.split()\n",
    "    starts, lengths = [\n",
    "        np.asarray(x, dtype=int) for x in (s[0:][::2], s[1:][::2])\n",
    "    ]\n",
    "    starts -= 1\n",
    "    ends = starts + lengths\n",
    "    img = np.zeros(shape[0] * shape[1], dtype=np.uint8)\n",
    "    for lo, hi in zip(starts, ends):\n",
    "        img[lo : hi] = 1\n",
    "    if len(shape) == 3:\n",
    "        img = img.reshape(shape[0], shape[1])\n",
    "    else:\n",
    "        img = img.reshape(shape[0], shape[1])\n",
    "    return img.T"
   ]
  },
  {
   "cell_type": "code",
   "execution_count": 10,
   "metadata": {},
   "outputs": [],
   "source": [
    "class Dataset(torch.utils.data.Dataset):\n",
    "  def __init__(self, dataframe, n_classes=2, dim=2000, interpolation=cv2.INTER_LANCZOS4):\n",
    "    self.dataframe = dataframe\n",
    "    self.n_classes = n_classes\n",
    "    self.dim = dim\n",
    "    self.interpolation = interpolation\n",
    "\n",
    "  def __len__(self):\n",
    "    return len(self.dataframe)\n",
    "\n",
    "  def __getitem__(self, ix):\n",
    "    # Get image path from column 'path' in dataframe\n",
    "    img_path = str(self.dataframe.iloc[ix]['path'])\n",
    "    # Load image\n",
    "    img_cv = cv2.imread(img_path)\n",
    "    img_cv = cv2.cvtColor(img_cv, cv2.COLOR_BGR2RGB)\n",
    "    # Resize image\n",
    "    img_cv_res = cv2.resize(img_cv, dsize=(self.dim, self.dim), interpolation=self.interpolation)\n",
    "    # Normalize image\n",
    "    img_cv_res_norm = img_cv_res / 255.0\n",
    "    # Convert to tensor\n",
    "    img_tensor = torch.from_numpy(img_cv_res_norm).float().permute(2, 0, 1)\n",
    "\n",
    "    # Get mask\n",
    "    rle = self.dataframe.iloc[ix]['rle']\n",
    "    mask_cv = rle2mask(rle, img_cv.shape)\n",
    "    # Resize mask\n",
    "    mask_cv_res = cv2.resize(mask_cv, dsize=(self.dim, self.dim), interpolation=self.interpolation)\n",
    "    # One-hot encode mask\n",
    "    mask_oh = np.eye(2)[mask_cv_res.astype(int)].astype(np.float32)\n",
    "    # Convert to tensor\n",
    "    mask_tensor = torch.from_numpy(mask_oh).float().permute(2, 0, 1)\n",
    "    \n",
    "    return img_tensor, mask_tensor"
   ]
  },
  {
   "cell_type": "code",
   "execution_count": 11,
   "metadata": {},
   "outputs": [
    {
     "name": "stdout",
     "output_type": "stream",
     "text": [
      "Había 351 imágenes en el dataset, lo hemos dividido en 280 imágenes de entrenamiento y 71 imágenes de validación\n"
     ]
    }
   ],
   "source": [
    "train_split, val_split = train_test_split(train_df, test_size=VALID_SPLIT, shuffle=True, random_state=42, stratify=train_df['organ'])\n",
    "dataset = {\n",
    "    'train': Dataset(train_split, n_classes=2, dim=resize_img),\n",
    "    'val': Dataset(val_split, n_classes=2, dim=resize_img),\n",
    "}\n",
    "\n",
    "print(f\"Había {len(train_df)} imágenes en el dataset, lo hemos dividido en {len(dataset['train'])} imágenes de entrenamiento y {len(dataset['val'])} imágenes de validación\")"
   ]
  },
  {
   "cell_type": "code",
   "execution_count": 12,
   "metadata": {},
   "outputs": [],
   "source": [
    "dataloader = {\n",
    "    'train': torch.utils.data.DataLoader(dataset['train'], batch_size=BS_train, shuffle=True, pin_memory=True),\n",
    "    'val': torch.utils.data.DataLoader(dataset['val'], batch_size=BS_val, pin_memory=True)\n",
    "}"
   ]
  },
  {
   "cell_type": "markdown",
   "metadata": {},
   "source": [
    "## Batch size finder"
   ]
  },
  {
   "cell_type": "code",
   "execution_count": 13,
   "metadata": {},
   "outputs": [],
   "source": [
    "if SEARCH_BS:\n",
    "    def get_gpu_memory():\n",
    "        command = \"nvidia-smi --query-gpu=memory.total --format=csv\"\n",
    "        memory_total_info = sp.check_output(command.split()).decode('ascii').split('\\n')[:-1][1:]\n",
    "        memory_total_values = [int(x.split()[0]) for i, x in enumerate(memory_total_info)]\n",
    "\n",
    "        command = \"nvidia-smi --query-gpu=memory.free --format=csv\"\n",
    "        memory_free_info = sp.check_output(command.split()).decode('ascii').split('\\n')[:-1][1:]\n",
    "        memory_free_values = [int(x.split()[0]) for i, x in enumerate(memory_free_info)]\n",
    "\n",
    "        command = \"nvidia-smi --query-gpu=memory.used --format=csv\"\n",
    "        memory_used_info = sp.check_output(command.split()).decode('ascii').split('\\n')[:-1][1:]\n",
    "        memory_used_values = [int(x.split()[0]) for i, x in enumerate(memory_used_info)]\n",
    "        return memory_total_values, memory_free_values, memory_used_values\n",
    "    total, free, used = get_gpu_memory()\n",
    "    print(f\"GPU memory: total: {total} MiB, free: {free} MiB, used: {used} MiB\")"
   ]
  },
  {
   "cell_type": "code",
   "execution_count": 14,
   "metadata": {},
   "outputs": [],
   "source": [
    "if SEARCH_BS:\n",
    "    model = UNetResnet()\n",
    "    device = \"cuda\" if torch.cuda.is_available() else \"cpu\"\n",
    "    model.to(device)\n",
    "    if torch.cuda.is_available():\n",
    "        if torch.cuda.device_count() >= 1:\n",
    "            print(\"Let's use\", torch.cuda.device_count(), \"GPUs!\")\n",
    "            model = torch.nn.DataParallel(model)\n",
    "        else:\n",
    "            model.cuda()\n",
    "    else:\n",
    "        print(\"Using CPU\")"
   ]
  },
  {
   "cell_type": "code",
   "execution_count": 15,
   "metadata": {},
   "outputs": [],
   "source": [
    "if SEARCH_BS:\n",
    "    LR = 1e-3\n",
    "    criterion = torch.nn.BCEWithLogitsLoss()\n",
    "    optimizer = torch.optim.Adam(model.parameters(), lr=LR, weight_decay=1e-5)"
   ]
  },
  {
   "cell_type": "code",
   "execution_count": 16,
   "metadata": {},
   "outputs": [],
   "source": [
    "if SEARCH_BS:\n",
    "    def train_loop(dataloader, model, loss_fn, optimizer):\n",
    "        model.train()\n",
    "        for (imgs, masks) in dataloader:\n",
    "            # X and y to device\n",
    "            imgs, masks = imgs.to(device), masks.to(device)\n",
    "\n",
    "            # Compute prediction and loss\n",
    "            pred_mask = model(imgs)\n",
    "            loss = criterion(pred_mask, masks)\n",
    "\n",
    "            # Backpropagation\n",
    "            optimizer.zero_grad()\n",
    "            loss.backward()\n",
    "            optimizer.step()"
   ]
  },
  {
   "cell_type": "code",
   "execution_count": 17,
   "metadata": {},
   "outputs": [],
   "source": [
    "if SEARCH_BS:\n",
    "    def list_of_posible_batch_sizes(dataset):\n",
    "        batch_sizes = []\n",
    "        batch_size = 1\n",
    "        while batch_size < 2*len(dataset):\n",
    "            batch_sizes.append(batch_size)\n",
    "            batch_size *= 2\n",
    "        batch_sizes.sort(reverse=True)\n",
    "        return batch_sizes\n",
    "\n",
    "    BSs = list_of_posible_batch_sizes(dataset['train'])\n",
    "    BSs"
   ]
  },
  {
   "cell_type": "code",
   "execution_count": 18,
   "metadata": {},
   "outputs": [],
   "source": [
    "if SEARCH_BS:\n",
    "    for batchsize_train in BSs:\n",
    "        print(f\"batch size: {batchsize_train}\")\n",
    "        train_dl = torch.utils.data.DataLoader(dataset['train'], batch_size=batchsize_train, shuffle=True, pin_memory=True)\n",
    "        epochs = 3\n",
    "        out_of_memory = False\n",
    "        for t in range(epochs):\n",
    "            print(f\"\\tTrain epoch {t} of {epochs}\")\n",
    "            try:\n",
    "                train_loop(train_dl, model, optimizer, optimizer)\n",
    "            except Exception as e:\n",
    "                print(f'Error: {e}')\n",
    "                out_of_memory = True\n",
    "                break\n",
    "        if out_of_memory == False:\n",
    "            break\n",
    "        print()\n",
    "    print(f\"Done!, bacth size is {batchsize_train}\")"
   ]
  },
  {
   "cell_type": "code",
   "execution_count": 19,
   "metadata": {},
   "outputs": [],
   "source": [
    "if SEARCH_BS:\n",
    "    BS_train = batchsize_train\n",
    "    BS_val = BS_train * 4\n",
    "    print(f\"For {resize_img}x{resize_img} images size, we use batch size of {BS_train} for train and batch size of {BS_val} for validation\")"
   ]
  },
  {
   "cell_type": "markdown",
   "metadata": {},
   "source": [
    "## Search LR"
   ]
  },
  {
   "cell_type": "code",
   "execution_count": 20,
   "metadata": {},
   "outputs": [],
   "source": [
    "if SEARCH_LR:\n",
    "    def lr_finder(model, train_dl, loss_fn, device, lr_init=1e-8, lr_end=10, increment=4, beta=0.98):\n",
    "        num = len(train_dl)-1 # Numero de lrs que vamos a probar\n",
    "        q = (lr_end/lr_init)**(1/num) # Incremento de lr\n",
    "        lr = lr_init\n",
    "        optimizer = torch.optim.Adam(model.parameters(), lr=lr)\n",
    "        loss = 0\n",
    "        best_loss = 0.\n",
    "        avg_loss = 0.\n",
    "        smoothed_avg_losses = []\n",
    "        lrs = []\n",
    "        for batch, (imgs, masks) in enumerate(train_dl):\n",
    "            # X and y to device\n",
    "            imgs, masks = imgs.to(device), masks.to(device)\n",
    "\n",
    "            # Update optimizer\n",
    "            optimizer = torch.optim.Adam(model.parameters(), lr=lr)\n",
    "\n",
    "            # Compute prediction and loss\n",
    "            pred_mask = model(imgs)\n",
    "            loss = loss_fn(pred_mask, masks)\n",
    "            avg_loss = beta * avg_loss + (1-beta) * loss.to(\"cpu\").item()\n",
    "            smoothed_loss = avg_loss / (1 - beta**(batch+1))\n",
    "            if increment is not None:\n",
    "                # Se para si el loss se dispara\n",
    "                window = 10\n",
    "                if batch > window and smoothed_avg_losses[-window] > increment * best_loss:\n",
    "                    return lrs, smoothed_avg_losses\n",
    "            \n",
    "            # Se guarda la menor pérdida\n",
    "            if avg_loss < best_loss or batch==0:\n",
    "                best_loss = smoothed_loss\n",
    "            \n",
    "            # Se guardan los datos\n",
    "            smoothed_avg_losses.append(smoothed_loss)\n",
    "            lrs.append(lr)\n",
    "\n",
    "            # Backpropagation\n",
    "            optimizer.zero_grad()\n",
    "            loss.backward()\n",
    "            optimizer.step()\n",
    "\n",
    "            # Update lr\n",
    "            lr *= q\n",
    "\n",
    "        return lrs, smoothed_avg_losses"
   ]
  },
  {
   "cell_type": "code",
   "execution_count": 21,
   "metadata": {},
   "outputs": [],
   "source": [
    "if SEARCH_LR:\n",
    "    model = UNetResnet()\n",
    "    device = \"cuda\" if torch.cuda.is_available() else \"cpu\"\n",
    "    model.to(device)\n",
    "    criterion = torch.nn.BCEWithLogitsLoss()\n",
    "    [lrss, smoothed_avg_losses] = lr_finder(model, train_dl=dataloader['train'], loss_fn = criterion, device=device)\n",
    "\n",
    "    plt.plot(lrss, smoothed_avg_losses)\n",
    "    plt.xlabel(\"lr\")\n",
    "    plt.ylabel(\"loss\")\n",
    "    plt.xscale(\"log\")\n",
    "    plt.grid()\n",
    "    plt.show()"
   ]
  },
  {
   "cell_type": "code",
   "execution_count": 22,
   "metadata": {},
   "outputs": [],
   "source": [
    "if SEARCH_LR:\n",
    "    LR = 1e-2"
   ]
  },
  {
   "cell_type": "markdown",
   "metadata": {},
   "source": [
    "## Train all images"
   ]
  },
  {
   "cell_type": "code",
   "execution_count": 25,
   "metadata": {},
   "outputs": [],
   "source": [
    "from tqdm import tqdm\n",
    "device = \"cuda\" if torch.cuda.is_available() else \"cpu\"\n",
    "\n",
    "def train_loop(dataloader, model, loss_fn, optimizer, bar, hist, device):\n",
    "    train_loss, train_dice = [], []\n",
    "    model.train()\n",
    "    # for imgs, masks in progress_bar(dataloader['val'], parent=mb):\n",
    "    for imgs, masks in bar:\n",
    "        # X and y to device\n",
    "        imgs, masks = imgs.to(device), masks.to(device)\n",
    "        # Compute prediction and loss\n",
    "        pred_mask = model(imgs)\n",
    "        loss = loss_fn(pred_mask, masks)\n",
    "        # Backpropagation\n",
    "        optimizer.zero_grad()\n",
    "        loss.backward()\n",
    "        optimizer.step()\n",
    "        # Update train loss and dice\n",
    "        dice = dice_coeff(pred_mask, masks)\n",
    "        train_loss.append(loss.item())\n",
    "        train_dice.append(dice)\n",
    "        # Update progress bar\n",
    "        bar.set_description(f\"\\t\\tloss {np.mean(train_loss):.5f}, dice {np.mean(train_dice):.5f}\")\n",
    "    hist['loss'].append(np.mean(train_loss))\n",
    "    hist['dice'].append(np.mean(train_dice))\n",
    "    return hist\n",
    "\n",
    "def valid_loop(dataloader, model, loss_fn, optimizer, bar, hist, device):\n",
    "    val_loss, val_dice = [], []\n",
    "    model.eval()\n",
    "    with torch.no_grad():\n",
    "        # for imgs, masks in progress_bar(dataloader['val'], parent=mb):\n",
    "        for imgs, masks in bar:\n",
    "            # X and y to device\n",
    "            imgs, masks = imgs.to(device), masks.to(device)\n",
    "            # Compute prediction and loss\n",
    "            pred_mask = model(imgs)\n",
    "            loss = loss_fn(pred_mask, masks)\n",
    "            # Update test loss and dice\n",
    "            dice = dice_coeff(pred_mask, masks)\n",
    "            val_loss.append(loss.item())\n",
    "            val_dice.append(dice)\n",
    "            # Update progress bar\n",
    "            bar.set_description(f\"\\t\\tval_loss {np.mean(val_loss):.5f} val_dice {np.mean(val_dice):.5f}\")\n",
    "    hist['val_loss'].append(np.mean(val_loss))\n",
    "    hist['val_dice'].append(np.mean(val_dice))\n",
    "    return hist\n",
    "\n",
    "def fit(model, dataloader, device, epochs=100, lr=3e-4, parallel=False):\n",
    "    len_int_epochs = len(str(epochs))\n",
    "    optimizer = torch.optim.Adam(model.parameters(), lr=lr)#, weight_decay=1e-5)\n",
    "    criterion = torch.nn.BCEWithLogitsLoss()\n",
    "    best_dice = 0.\n",
    "    model_folder = path/'models'\n",
    "    model_full_name = model_folder/ NOTEBOOK_NAME\n",
    "    schedulerOnPlateau = torch.optim.lr_scheduler.ReduceLROnPlateau(\n",
    "        optimizer, \n",
    "        mode='max', \n",
    "        factor=0.1, \n",
    "        patience=10, \n",
    "        verbose=True)\n",
    "    if torch.cuda.device_count() >= 1:\n",
    "        print(\"Let's use\", torch.cuda.device_count(), \"GPUs!\")\n",
    "        if parallel:\n",
    "            model = torch.nn.DataParallel(model)\n",
    "        model.cuda()\n",
    "    else:\n",
    "        print(\"Let's use CPU!\")\n",
    "        model.to(device)\n",
    "    hist = {'loss': [], 'dice': [], 'val_loss': [], 'val_dice': []}\n",
    "    for epoch in range(epochs):\n",
    "        # if not FASTPROGRESS:\n",
    "        bar = tqdm(dataloader['train'])\n",
    "        hist = train_loop(dataloader, model, criterion, optimizer, bar, hist, device)\n",
    "\n",
    "        # if not FASTPROGRESS:\n",
    "        bar = tqdm(dataloader['val'])\n",
    "        hist = valid_loop(dataloader, model, criterion, optimizer, bar, hist, device)\n",
    "        \n",
    "        if len_int_epochs == 1:\n",
    "            print(f\"Epoch {(epoch+1):01d}/{epochs:01d} loss {hist['loss'][-1]:.5f} dice {hist['dice'][-1]:.5f} val_loss {hist['val_loss'][-1]:.5f} val_dice {hist['val_dice'][-1]:.5f}\")\n",
    "        elif len_int_epochs == 2:\n",
    "            print(f\"Epoch {(epoch+1):02d}/{epochs:02d} loss {hist['loss'][-1]:.5f} dice {hist['dice'][-1]:.5f} val_loss {hist['val_loss'][-1]:.5f} val_dice {hist['val_dice'][-1]:.5f}\")\n",
    "        elif len_int_epochs == 3:\n",
    "            print(f\"Epoch {(epoch+1):03d}/{epochs:03d} loss {hist['loss'][-1]:.5f} dice {hist['dice'][-1]:.5f} val_loss {hist['val_loss'][-1]:.5f} val_dice {hist['val_dice'][-1]:.5f}\")\n",
    "        elif len_int_epochs == 4:\n",
    "            print(f\"Epoch {(epoch+1):04d}/{epochs:04d} loss {hist['loss'][-1]:.5f} dice {hist['dice'][-1]:.5f} val_loss {hist['val_loss'][-1]:.5f} val_dice {hist['val_dice'][-1]:.5f}\")\n",
    "\n",
    "        if hist['val_dice'][-1] > best_dice:\n",
    "            best_dice = hist['val_dice'][-1]\n",
    "            model_full_path = model_full_name.with_suffix('.pth')\n",
    "            # torch.save(model.state_dict(), model_full_path)\n",
    "            print(f\"New best dice: {best_dice:.5f}\")\n",
    "        \n",
    "        schedulerOnPlateau.step(hist['val_loss'][-1])\n",
    "    return hist"
   ]
  },
  {
   "cell_type": "code",
   "execution_count": 26,
   "metadata": {},
   "outputs": [
    {
     "name": "stdout",
     "output_type": "stream",
     "text": [
      "Let's use 2 GPUs!\n"
     ]
    },
    {
     "name": "stderr",
     "output_type": "stream",
     "text": [
      "\t\tloss 0.38064, dice 3.84581: 100%|██████████| 18/18 [00:16<00:00,  1.11it/s]\n",
      "\t\tval_loss 10.87755 val_dice -31.08011: 100%|██████████| 2/2 [00:03<00:00,  1.51s/it]\n"
     ]
    },
    {
     "name": "stdout",
     "output_type": "stream",
     "text": [
      "Epoch 1/3 loss 0.38064 dice 3.84581 val_loss 10.87755 val_dice -31.08011\n"
     ]
    },
    {
     "name": "stderr",
     "output_type": "stream",
     "text": [
      "\t\tloss 0.27088, dice 6.41318: 100%|██████████| 18/18 [00:13<00:00,  1.37it/s]\n",
      "\t\tval_loss 15.75358 val_dice 28.29255: 100%|██████████| 2/2 [00:03<00:00,  1.58s/it]\n"
     ]
    },
    {
     "name": "stdout",
     "output_type": "stream",
     "text": [
      "Epoch 2/3 loss 0.27088 dice 6.41318 val_loss 15.75358 val_dice 28.29255\n",
      "New best dice: 28.29255\n"
     ]
    },
    {
     "name": "stderr",
     "output_type": "stream",
     "text": [
      "\t\tloss 0.26699, dice 6.67915: 100%|██████████| 18/18 [00:13<00:00,  1.38it/s]\n",
      "\t\tval_loss 0.31408 val_dice 4.68080: 100%|██████████| 2/2 [00:03<00:00,  1.57s/it]"
     ]
    },
    {
     "name": "stdout",
     "output_type": "stream",
     "text": [
      "Epoch 3/3 loss 0.26699 dice 6.67915 val_loss 0.31408 val_dice 4.68080\n"
     ]
    },
    {
     "name": "stderr",
     "output_type": "stream",
     "text": [
      "\n"
     ]
    }
   ],
   "source": [
    "if not SEARCH_BS and not SEARCH_LR:\n",
    "    model = UNetResnet()\n",
    "    EPOCHS = 3\n",
    "    hist = fit(model, dataloader, device, epochs=EPOCHS, lr=LR, parallel=True)"
   ]
  },
  {
   "cell_type": "code",
   "execution_count": 28,
   "metadata": {},
   "outputs": [
    {
     "name": "stdout",
     "output_type": "stream",
     "text": [
      "3\n"
     ]
    },
    {
     "data": {
      "text/html": [
       "<div>\n",
       "<style scoped>\n",
       "    .dataframe tbody tr th:only-of-type {\n",
       "        vertical-align: middle;\n",
       "    }\n",
       "\n",
       "    .dataframe tbody tr th {\n",
       "        vertical-align: top;\n",
       "    }\n",
       "\n",
       "    .dataframe thead th {\n",
       "        text-align: right;\n",
       "    }\n",
       "</style>\n",
       "<table border=\"1\" class=\"dataframe\">\n",
       "  <thead>\n",
       "    <tr style=\"text-align: right;\">\n",
       "      <th></th>\n",
       "      <th>loss</th>\n",
       "      <th>dice</th>\n",
       "      <th>val_loss</th>\n",
       "      <th>val_dice</th>\n",
       "    </tr>\n",
       "  </thead>\n",
       "  <tbody>\n",
       "    <tr>\n",
       "      <th>0</th>\n",
       "      <td>0.380641</td>\n",
       "      <td>3.845807</td>\n",
       "      <td>10.877552</td>\n",
       "      <td>-31.080108</td>\n",
       "    </tr>\n",
       "    <tr>\n",
       "      <th>1</th>\n",
       "      <td>0.270881</td>\n",
       "      <td>6.413175</td>\n",
       "      <td>15.753582</td>\n",
       "      <td>28.292546</td>\n",
       "    </tr>\n",
       "    <tr>\n",
       "      <th>2</th>\n",
       "      <td>0.266995</td>\n",
       "      <td>6.679147</td>\n",
       "      <td>0.314076</td>\n",
       "      <td>4.680802</td>\n",
       "    </tr>\n",
       "  </tbody>\n",
       "</table>\n",
       "</div>"
      ],
      "text/plain": [
       "       loss      dice   val_loss   val_dice\n",
       "0  0.380641  3.845807  10.877552 -31.080108\n",
       "1  0.270881  6.413175  15.753582  28.292546\n",
       "2  0.266995  6.679147   0.314076   4.680802"
      ]
     },
     "execution_count": 28,
     "metadata": {},
     "output_type": "execute_result"
    }
   ],
   "source": [
    "if not SEARCH_BS and not SEARCH_LR:\n",
    "    hist_df = pd.DataFrame(hist)\n",
    "    print(len(hist_df))\n",
    "else:\n",
    "    # Empty dataframe\n",
    "    hist_df = pd.DataFrame()\n",
    "hist_df.head()"
   ]
  },
  {
   "cell_type": "code",
   "execution_count": 28,
   "metadata": {},
   "outputs": [
    {
     "data": {
      "image/png": "[encoded data removed]",
      "text/plain": [
       "<Figure size 432x288 with 1 Axes>"
      ]
     },
     "metadata": {
      "needs_background": "light"
     },
     "output_type": "display_data"
    }
   ],
   "source": [
    "if not SEARCH_BS and not SEARCH_LR:\n",
    "    # plot the training and testing loss\n",
    "    plt.plot(hist['loss'], label='train_loss')\n",
    "    plt.plot(hist['val_loss'], label='val_loss')\n",
    "    plt.legend()\n",
    "    plt.grid()\n",
    "    plt.show()"
   ]
  },
  {
   "cell_type": "code",
   "execution_count": 29,
   "metadata": {},
   "outputs": [
    {
     "data": {
      "image/png": "[encoded data removed]",
      "text/plain": [
       "<Figure size 432x288 with 1 Axes>"
      ]
     },
     "metadata": {
      "needs_background": "light"
     },
     "output_type": "display_data"
    }
   ],
   "source": [
    "if not SEARCH_BS and not SEARCH_LR:\n",
    "    # plot the training and testing dice\n",
    "    plt.plot(hist['dice'], label='train_dice')\n",
    "    plt.plot(hist['val_dice'], label='val_dice')\n",
    "    plt.legend()\n",
    "    plt.grid()\n",
    "    plt.show()"
   ]
  },
  {
   "cell_type": "code",
   "execution_count": 39,
   "metadata": {},
   "outputs": [
    {
     "data": {
      "image/png": "[encoded data removed]",
      "text/plain": [
       "<Figure size 2160x720 with 3 Axes>"
      ]
     },
     "metadata": {
      "needs_background": "light"
     },
     "output_type": "display_data"
    },
    {
     "name": "stdout",
     "output_type": "stream",
     "text": [
      "output.shape = torch.Size([2, 50, 50]), pred_mask.shape = (50, 50)\n"
     ]
    }
   ],
   "source": [
    "if not SEARCH_BS and not SEARCH_LR:\n",
    "    sample_val_img, sample_val_mask = next(iter(dataloader['val']))\n",
    "    one_sample_img = sample_val_img[0]\n",
    "    one_sample_mask = sample_val_mask[0]\n",
    "    model.eval()\n",
    "    with torch.no_grad():\n",
    "        sample_val_img = sample_val_img.to(device)\n",
    "        output = model(sample_val_img)[0]\n",
    "        pred_mask = torch.argmax(output, axis=0)\n",
    "        pred_mask = pred_mask.type(torch.float32)\n",
    "        pred_mask = pred_mask.detach().cpu().numpy()\n",
    "        \n",
    "    fig, (ax1, ax2, ax3) = plt.subplots(1, 3, figsize=(30,10))\n",
    "    ax1.imshow(one_sample_img.permute(1, 2, 0).cpu().numpy())\n",
    "    ax1.set_title('Image')\n",
    "    ax2.imshow(torch.argmax(one_sample_mask, axis=0).cpu().numpy())\n",
    "    ax2.set_title('mask')\n",
    "    ax3.imshow(pred_mask)\n",
    "    ax3.set_title('pred_mask')\n",
    "    plt.show()\n",
    "    print(f\"output.shape = {output.shape}, pred_mask.shape = {pred_mask.shape}\")"
   ]
  }
 ],
 "metadata": {
  "kernelspec": {
   "display_name": "Python 3.8.13 ('HuBMAP_HPA')",
   "language": "python",
   "name": "python3"
  },
  "language_info": {
   "codemirror_mode": {
    "name": "ipython",
    "version": 3
   },
   "file_extension": ".py",
   "mimetype": "text/x-python",
   "name": "python",
   "nbconvert_exporter": "python",
   "pygments_lexer": "ipython3",
   "version": "3.8.13"
  },
  "orig_nbformat": 4,
  "vscode": {
   "interpreter": {
    "hash": "5908be7129383694b4ff55a3fd43a54e78208ed305dac25c0e93bbd971e0eb3e"
   }
  }
 },
 "nbformat": 4,
 "nbformat_minor": 2
}
